{
  "nbformat": 4,
  "nbformat_minor": 0,
  "metadata": {
    "colab": {
      "name": "actividaad3.ipynb",
      "provenance": [],
      "collapsed_sections": []
    },
    "kernelspec": {
      "name": "python3",
      "display_name": "Python 3"
    }
  },
  "cells": [
    {
      "cell_type": "code",
      "metadata": {
        "id": "uy-QqEPp14dT",
        "colab": {
          "base_uri": "https://localhost:8080/"
        },
        "outputId": "5791b005-5025-41fc-e788-26a22051f9d0"
      },
      "source": [
        "#Importaremos las bibliotecas a utiizar \r\n",
        "import numpy as np\r\n",
        "import pandas as pd\r\n",
        "\r\n",
        "#Nombraremos las columnas del df\r\n",
        "columnas = ['Fecha', 'Precip', 'Evap', 'Tmax', 'Tmin']\r\n",
        "#Agregamos el url de la ubicación de nuestros datos \r\n",
        "\r\n",
        "url = \"https://raw.githubusercontent.com/Aglaeth/fisica_computacional/main/Actividad%203/3042.txt\"\r\n",
        "\r\n",
        "#Empezamos con la definicion df_Pocitos \r\n",
        "df_pocitos = pd.read_csv(url,header =None,names=columnas, skiprows=19, skipfooter=1, sep='\\s+', encoding='cp1251',engine='python')\r\n",
        "\r\n",
        "#Vamos a imprimir los datos de nuestro url \r\n",
        "print(df_pocitos)\r\n"
      ],
      "execution_count": null,
      "outputs": [
        {
          "output_type": "stream",
          "text": [
            "            Fecha Precip  Evap Tmax Tmin\n",
            "0      01/09/1952      0  Nulo   37   21\n",
            "1      02/09/1952      0  Nulo   36   22\n",
            "2      03/09/1952      0  Nulo   34   23\n",
            "3      04/09/1952      0  Nulo   33   24\n",
            "4      05/09/1952      0  Nulo   38   22\n",
            "...           ...    ...   ...  ...  ...\n",
            "22956  26/12/2017      0  Nulo   22   14\n",
            "22957  27/12/2017      0  Nulo   27   13\n",
            "22958  28/12/2017      0  Nulo   25   15\n",
            "22959  29/12/2017      0  Nulo   27   12\n",
            "22960  30/12/2017      0  Nulo   27   11\n",
            "\n",
            "[22961 rows x 5 columns]\n"
          ],
          "name": "stdout"
        }
      ]
    },
    {
      "cell_type": "code",
      "metadata": {
        "id": "tfq1i0PuOswz",
        "colab": {
          "base_uri": "https://localhost:8080/"
        },
        "outputId": "ba6b38c3-be3e-4dda-b0b6-957993523878"
      },
      "source": [
        "#Ahora solo vamos a imprimir usando la función df.head(n) y df.tail()\r\n",
        "\r\n",
        "print(df_pocitos.head())\r\n",
        "\r\n",
        "print(df_pocitos.tail())"
      ],
      "execution_count": null,
      "outputs": [
        {
          "output_type": "stream",
          "text": [
            "        Fecha Precip  Evap Tmax Tmin\n",
            "0  01/09/1952      0  Nulo   37   21\n",
            "1  02/09/1952      0  Nulo   36   22\n",
            "2  03/09/1952      0  Nulo   34   23\n",
            "3  04/09/1952      0  Nulo   33   24\n",
            "4  05/09/1952      0  Nulo   38   22\n",
            "            Fecha Precip  Evap Tmax Tmin\n",
            "22956  26/12/2017      0  Nulo   22   14\n",
            "22957  27/12/2017      0  Nulo   27   13\n",
            "22958  28/12/2017      0  Nulo   25   15\n",
            "22959  29/12/2017      0  Nulo   27   12\n",
            "22960  30/12/2017      0  Nulo   27   11\n"
          ],
          "name": "stdout"
        }
      ]
    },
    {
      "cell_type": "code",
      "metadata": {
        "colab": {
          "base_uri": "https://localhost:8080/"
        },
        "id": "MdysfVCFdCB4",
        "outputId": "b906983b-cf5c-40f6-aff3-a5678bc40551"
      },
      "source": [
        "#Parte 3 \r\n",
        "print(df_pocitos.head(10))\r\n",
        "\r\n",
        "print(df_pocitos.tail(10))"
      ],
      "execution_count": null,
      "outputs": [
        {
          "output_type": "stream",
          "text": [
            "        Fecha Precip  Evap Tmax Tmin\n",
            "0  01/09/1952      0  Nulo   37   21\n",
            "1  02/09/1952      0  Nulo   36   22\n",
            "2  03/09/1952      0  Nulo   34   23\n",
            "3  04/09/1952      0  Nulo   33   24\n",
            "4  05/09/1952      0  Nulo   38   22\n",
            "5  06/09/1952      0  Nulo   37   23\n",
            "6  07/09/1952      0  Nulo   40   22\n",
            "7  08/09/1952      0  Nulo   36   21\n",
            "8  09/09/1952      0  Nulo   38   24\n",
            "9  10/09/1952      0  Nulo   34   20\n",
            "            Fecha Precip  Evap Tmax Tmin\n",
            "22951  21/12/2017      0  Nulo   23   16\n",
            "22952  22/12/2017      0  Nulo   25    9\n",
            "22953  23/12/2017      0  Nulo   26   11\n",
            "22954  24/12/2017      0  Nulo   25   12\n",
            "22955  25/12/2017      0  Nulo   21   15\n",
            "22956  26/12/2017      0  Nulo   22   14\n",
            "22957  27/12/2017      0  Nulo   27   13\n",
            "22958  28/12/2017      0  Nulo   25   15\n",
            "22959  29/12/2017      0  Nulo   27   12\n",
            "22960  30/12/2017      0  Nulo   27   11\n"
          ],
          "name": "stdout"
        }
      ]
    },
    {
      "cell_type": "code",
      "metadata": {
        "colab": {
          "base_uri": "https://localhost:8080/"
        },
        "id": "pCNgBTJodoFR",
        "outputId": "688b0348-4332-4237-df29-5d6969fe6b4d"
      },
      "source": [
        "#Ahora estudiaremos las dimensiones del archivo por medio de la siguiente linea de codigo : df.shape\r\n",
        "\r\n",
        "df_pocitos.shape"
      ],
      "execution_count": null,
      "outputs": [
        {
          "output_type": "execute_result",
          "data": {
            "text/plain": [
              "(22961, 5)"
            ]
          },
          "metadata": {
            "tags": []
          },
          "execution_count": 7
        }
      ]
    },
    {
      "cell_type": "code",
      "metadata": {
        "colab": {
          "base_uri": "https://localhost:8080/"
        },
        "id": "hd9Wtn00d_Q8",
        "outputId": "31df7efe-9b13-4e8e-91f2-6cb7e5c7455d"
      },
      "source": [
        "#Posteriormente se nos pide saber ¿Cómo es el contenido de tu dataframe?: df.info()\r\n",
        "\r\n",
        "df_pocitos.info()"
      ],
      "execution_count": null,
      "outputs": [
        {
          "output_type": "stream",
          "text": [
            "<class 'pandas.core.frame.DataFrame'>\n",
            "RangeIndex: 22961 entries, 0 to 22960\n",
            "Data columns (total 5 columns):\n",
            " #   Column  Non-Null Count  Dtype \n",
            "---  ------  --------------  ----- \n",
            " 0   Fecha   22961 non-null  object\n",
            " 1   Precip  22961 non-null  object\n",
            " 2   Evap    22961 non-null  object\n",
            " 3   Tmax    22961 non-null  object\n",
            " 4   Tmin    22961 non-null  object\n",
            "dtypes: object(5)\n",
            "memory usage: 897.0+ KB\n"
          ],
          "name": "stdout"
        }
      ]
    },
    {
      "cell_type": "code",
      "metadata": {
        "colab": {
          "base_uri": "https://localhost:8080/",
          "height": 204
        },
        "id": "WAcige-UezP5",
        "outputId": "06c337f7-41d3-4d0e-fc98-7c778cef54ca"
      },
      "source": [
        "# Hacemos una copia de trabajo y preservamos el dataframe original\r\n",
        "df_respaldo = df_pocitos.copy()\r\n",
        "df_respaldo.head()"
      ],
      "execution_count": null,
      "outputs": [
        {
          "output_type": "execute_result",
          "data": {
            "text/html": [
              "<div>\n",
              "<style scoped>\n",
              "    .dataframe tbody tr th:only-of-type {\n",
              "        vertical-align: middle;\n",
              "    }\n",
              "\n",
              "    .dataframe tbody tr th {\n",
              "        vertical-align: top;\n",
              "    }\n",
              "\n",
              "    .dataframe thead th {\n",
              "        text-align: right;\n",
              "    }\n",
              "</style>\n",
              "<table border=\"1\" class=\"dataframe\">\n",
              "  <thead>\n",
              "    <tr style=\"text-align: right;\">\n",
              "      <th></th>\n",
              "      <th>Fecha</th>\n",
              "      <th>Precip</th>\n",
              "      <th>Evap</th>\n",
              "      <th>Tmax</th>\n",
              "      <th>Tmin</th>\n",
              "    </tr>\n",
              "  </thead>\n",
              "  <tbody>\n",
              "    <tr>\n",
              "      <th>0</th>\n",
              "      <td>01/09/1952</td>\n",
              "      <td>0</td>\n",
              "      <td>Nulo</td>\n",
              "      <td>37</td>\n",
              "      <td>21</td>\n",
              "    </tr>\n",
              "    <tr>\n",
              "      <th>1</th>\n",
              "      <td>02/09/1952</td>\n",
              "      <td>0</td>\n",
              "      <td>Nulo</td>\n",
              "      <td>36</td>\n",
              "      <td>22</td>\n",
              "    </tr>\n",
              "    <tr>\n",
              "      <th>2</th>\n",
              "      <td>03/09/1952</td>\n",
              "      <td>0</td>\n",
              "      <td>Nulo</td>\n",
              "      <td>34</td>\n",
              "      <td>23</td>\n",
              "    </tr>\n",
              "    <tr>\n",
              "      <th>3</th>\n",
              "      <td>04/09/1952</td>\n",
              "      <td>0</td>\n",
              "      <td>Nulo</td>\n",
              "      <td>33</td>\n",
              "      <td>24</td>\n",
              "    </tr>\n",
              "    <tr>\n",
              "      <th>4</th>\n",
              "      <td>05/09/1952</td>\n",
              "      <td>0</td>\n",
              "      <td>Nulo</td>\n",
              "      <td>38</td>\n",
              "      <td>22</td>\n",
              "    </tr>\n",
              "  </tbody>\n",
              "</table>\n",
              "</div>"
            ],
            "text/plain": [
              "        Fecha Precip  Evap Tmax Tmin\n",
              "0  01/09/1952      0  Nulo   37   21\n",
              "1  02/09/1952      0  Nulo   36   22\n",
              "2  03/09/1952      0  Nulo   34   23\n",
              "3  04/09/1952      0  Nulo   33   24\n",
              "4  05/09/1952      0  Nulo   38   22"
            ]
          },
          "metadata": {
            "tags": []
          },
          "execution_count": 9
        }
      ]
    },
    {
      "cell_type": "code",
      "metadata": {
        "colab": {
          "base_uri": "https://localhost:8080/",
          "height": 204
        },
        "id": "MANHDQ9IeIqn",
        "outputId": "98dd07e5-edaf-4fa6-cbd8-5740ebd3ab00"
      },
      "source": [
        "#Ahora con los datos originales incluyen la cadena de caracteres 'Nulo', indicando que no hubo datos para esa variable, ese día. \r\n",
        "#Tenemos que reemplazar la palabra nulo con la función: df.replace()\r\n",
        "\r\n",
        "str_Nulo = 'Nulo'\r\n",
        "df_respaldo = df_respaldo.replace(to_replace=str_Nulo, value='', regex=True)\r\n",
        "df_respaldo.head()"
      ],
      "execution_count": null,
      "outputs": [
        {
          "output_type": "execute_result",
          "data": {
            "text/html": [
              "<div>\n",
              "<style scoped>\n",
              "    .dataframe tbody tr th:only-of-type {\n",
              "        vertical-align: middle;\n",
              "    }\n",
              "\n",
              "    .dataframe tbody tr th {\n",
              "        vertical-align: top;\n",
              "    }\n",
              "\n",
              "    .dataframe thead th {\n",
              "        text-align: right;\n",
              "    }\n",
              "</style>\n",
              "<table border=\"1\" class=\"dataframe\">\n",
              "  <thead>\n",
              "    <tr style=\"text-align: right;\">\n",
              "      <th></th>\n",
              "      <th>Fecha</th>\n",
              "      <th>Precip</th>\n",
              "      <th>Evap</th>\n",
              "      <th>Tmax</th>\n",
              "      <th>Tmin</th>\n",
              "    </tr>\n",
              "  </thead>\n",
              "  <tbody>\n",
              "    <tr>\n",
              "      <th>0</th>\n",
              "      <td>01/09/1952</td>\n",
              "      <td>0</td>\n",
              "      <td></td>\n",
              "      <td>37</td>\n",
              "      <td>21</td>\n",
              "    </tr>\n",
              "    <tr>\n",
              "      <th>1</th>\n",
              "      <td>02/09/1952</td>\n",
              "      <td>0</td>\n",
              "      <td></td>\n",
              "      <td>36</td>\n",
              "      <td>22</td>\n",
              "    </tr>\n",
              "    <tr>\n",
              "      <th>2</th>\n",
              "      <td>03/09/1952</td>\n",
              "      <td>0</td>\n",
              "      <td></td>\n",
              "      <td>34</td>\n",
              "      <td>23</td>\n",
              "    </tr>\n",
              "    <tr>\n",
              "      <th>3</th>\n",
              "      <td>04/09/1952</td>\n",
              "      <td>0</td>\n",
              "      <td></td>\n",
              "      <td>33</td>\n",
              "      <td>24</td>\n",
              "    </tr>\n",
              "    <tr>\n",
              "      <th>4</th>\n",
              "      <td>05/09/1952</td>\n",
              "      <td>0</td>\n",
              "      <td></td>\n",
              "      <td>38</td>\n",
              "      <td>22</td>\n",
              "    </tr>\n",
              "  </tbody>\n",
              "</table>\n",
              "</div>"
            ],
            "text/plain": [
              "        Fecha Precip Evap Tmax Tmin\n",
              "0  01/09/1952      0        37   21\n",
              "1  02/09/1952      0        36   22\n",
              "2  03/09/1952      0        34   23\n",
              "3  04/09/1952      0        33   24\n",
              "4  05/09/1952      0        38   22"
            ]
          },
          "metadata": {
            "tags": []
          },
          "execution_count": 10
        }
      ]
    },
    {
      "cell_type": "code",
      "metadata": {
        "colab": {
          "base_uri": "https://localhost:8080/"
        },
        "id": "6Quw8m-ffwry",
        "outputId": "fdf460ad-e623-4168-912a-c7e3e929fa7a"
      },
      "source": [
        "#Ya quetenemos reemplazada la parte de NULO, vamos a imprimir los archivos actualizados \r\n",
        "\r\n",
        "df_respaldo.info()\r\n",
        "print(df_respaldo.head())"
      ],
      "execution_count": null,
      "outputs": [
        {
          "output_type": "stream",
          "text": [
            "<class 'pandas.core.frame.DataFrame'>\n",
            "RangeIndex: 25775 entries, 0 to 25774\n",
            "Data columns (total 5 columns):\n",
            " #   Column  Non-Null Count  Dtype \n",
            "---  ------  --------------  ----- \n",
            " 0   Fecha   25775 non-null  object\n",
            " 1   Precip  25775 non-null  object\n",
            " 2   Evap    25775 non-null  object\n",
            " 3   Tmax    25775 non-null  object\n",
            " 4   Tmin    25775 non-null  object\n",
            "dtypes: object(5)\n",
            "memory usage: 1007.0+ KB\n",
            "        Fecha Precip Evap  Tmax  Tmin\n",
            "0  01/01/1922      0         24    16\n",
            "1  02/01/1922      0         24  16.8\n",
            "2  03/01/1922      0       24.8  16.8\n",
            "3  04/01/1922      0         24    10\n",
            "4  05/01/1922      0         21   7.3\n"
          ],
          "name": "stdout"
        }
      ]
    },
    {
      "cell_type": "code",
      "metadata": {
        "id": "6iThMyHNnkwh",
        "colab": {
          "base_uri": "https://localhost:8080/"
        },
        "outputId": "e73711e8-33d1-4a64-9a98-a536da875a3d"
      },
      "source": [
        "cols_list = ['Precip', 'Evap', 'Tmax', 'Tmin']\r\n",
        "for cols in cols_list:\r\n",
        "  df_respaldo[cols] = pd.to_numeric(df_respaldo[cols], errors='coerce')\r\n",
        "\r\n",
        "df_respaldo.info()"
      ],
      "execution_count": null,
      "outputs": [
        {
          "output_type": "stream",
          "text": [
            "<class 'pandas.core.frame.DataFrame'>\n",
            "RangeIndex: 22961 entries, 0 to 22960\n",
            "Data columns (total 5 columns):\n",
            " #   Column  Non-Null Count  Dtype  \n",
            "---  ------  --------------  -----  \n",
            " 0   Fecha   22961 non-null  object \n",
            " 1   Precip  22950 non-null  float64\n",
            " 2   Evap    0 non-null      float64\n",
            " 3   Tmax    22900 non-null  float64\n",
            " 4   Tmin    22839 non-null  float64\n",
            "dtypes: float64(4), object(1)\n",
            "memory usage: 897.0+ KB\n"
          ],
          "name": "stdout"
        }
      ]
    },
    {
      "cell_type": "code",
      "metadata": {
        "id": "OyNfwCfT9tie",
        "colab": {
          "base_uri": "https://localhost:8080/"
        },
        "outputId": "152b4c76-c506-46c5-d46c-24ed346fbc9a"
      },
      "source": [
        "#Se puede contabilizar el número de datos faltantes en esas variables mediante la función: df.isnull().sum()\r\n",
        "\r\n",
        "df_respaldo.isnull().sum()\r\n"
      ],
      "execution_count": null,
      "outputs": [
        {
          "output_type": "execute_result",
          "data": {
            "text/plain": [
              "Fecha         0\n",
              "Precip       11\n",
              "Evap      22961\n",
              "Tmax         61\n",
              "Tmin        122\n",
              "dtype: int64"
            ]
          },
          "metadata": {
            "tags": []
          },
          "execution_count": 12
        }
      ]
    },
    {
      "cell_type": "code",
      "metadata": {
        "colab": {
          "base_uri": "https://localhost:8080/"
        },
        "id": "89UGcdceXDrz",
        "outputId": "739dab40-7093-4842-d323-7d8bdc3bf3f7"
      },
      "source": [
        "#Imprime de nuevo el encabezado y final de tu dataframe, con las funciones df.head() y df.tail()\r\n",
        "\r\n",
        "print(df_respaldo.head())\r\n",
        "print(df_respaldo.tail())"
      ],
      "execution_count": null,
      "outputs": [
        {
          "output_type": "stream",
          "text": [
            "        Fecha  Precip  Evap  Tmax  Tmin\n",
            "0  01/09/1952     0.0   NaN  37.0  21.0\n",
            "1  02/09/1952     0.0   NaN  36.0  22.0\n",
            "2  03/09/1952     0.0   NaN  34.0  23.0\n",
            "3  04/09/1952     0.0   NaN  33.0  24.0\n",
            "4  05/09/1952     0.0   NaN  38.0  22.0\n",
            "            Fecha  Precip  Evap  Tmax  Tmin\n",
            "22956  26/12/2017     0.0   NaN  22.0  14.0\n",
            "22957  27/12/2017     0.0   NaN  27.0  13.0\n",
            "22958  28/12/2017     0.0   NaN  25.0  15.0\n",
            "22959  29/12/2017     0.0   NaN  27.0  12.0\n",
            "22960  30/12/2017     0.0   NaN  27.0  11.0\n"
          ],
          "name": "stdout"
        }
      ]
    },
    {
      "cell_type": "code",
      "metadata": {
        "colab": {
          "base_uri": "https://localhost:8080/",
          "height": 297
        },
        "id": "ke7Kc6uyYd1J",
        "outputId": "f6060481-da9e-4f72-d213-40546cb21507"
      },
      "source": [
        "#Realiza una estadística básica de las variables numéricas de tu dataframe usando la función: df.describe() y haz una interpretación de los resultados, para ver si tienen sentido físico \r\n",
        "#(por ej. valores negativos de precipitación, valores extremos fuera de lo normal, etc)\r\n",
        "\r\n",
        "df_respaldo.describe().round(2)\r\n"
      ],
      "execution_count": null,
      "outputs": [
        {
          "output_type": "execute_result",
          "data": {
            "text/html": [
              "<div>\n",
              "<style scoped>\n",
              "    .dataframe tbody tr th:only-of-type {\n",
              "        vertical-align: middle;\n",
              "    }\n",
              "\n",
              "    .dataframe tbody tr th {\n",
              "        vertical-align: top;\n",
              "    }\n",
              "\n",
              "    .dataframe thead th {\n",
              "        text-align: right;\n",
              "    }\n",
              "</style>\n",
              "<table border=\"1\" class=\"dataframe\">\n",
              "  <thead>\n",
              "    <tr style=\"text-align: right;\">\n",
              "      <th></th>\n",
              "      <th>Precip</th>\n",
              "      <th>Evap</th>\n",
              "      <th>Tmax</th>\n",
              "      <th>Tmin</th>\n",
              "    </tr>\n",
              "  </thead>\n",
              "  <tbody>\n",
              "    <tr>\n",
              "      <th>count</th>\n",
              "      <td>22950.00</td>\n",
              "      <td>0.0</td>\n",
              "      <td>22900.00</td>\n",
              "      <td>22839.00</td>\n",
              "    </tr>\n",
              "    <tr>\n",
              "      <th>mean</th>\n",
              "      <td>0.38</td>\n",
              "      <td>NaN</td>\n",
              "      <td>31.24</td>\n",
              "      <td>13.34</td>\n",
              "    </tr>\n",
              "    <tr>\n",
              "      <th>std</th>\n",
              "      <td>4.02</td>\n",
              "      <td>NaN</td>\n",
              "      <td>5.27</td>\n",
              "      <td>5.04</td>\n",
              "    </tr>\n",
              "    <tr>\n",
              "      <th>min</th>\n",
              "      <td>0.00</td>\n",
              "      <td>NaN</td>\n",
              "      <td>10.00</td>\n",
              "      <td>-2.00</td>\n",
              "    </tr>\n",
              "    <tr>\n",
              "      <th>25%</th>\n",
              "      <td>0.00</td>\n",
              "      <td>NaN</td>\n",
              "      <td>28.00</td>\n",
              "      <td>10.00</td>\n",
              "    </tr>\n",
              "    <tr>\n",
              "      <th>50%</th>\n",
              "      <td>0.00</td>\n",
              "      <td>NaN</td>\n",
              "      <td>31.00</td>\n",
              "      <td>12.00</td>\n",
              "    </tr>\n",
              "    <tr>\n",
              "      <th>75%</th>\n",
              "      <td>0.00</td>\n",
              "      <td>NaN</td>\n",
              "      <td>35.00</td>\n",
              "      <td>17.00</td>\n",
              "    </tr>\n",
              "    <tr>\n",
              "      <th>max</th>\n",
              "      <td>180.00</td>\n",
              "      <td>NaN</td>\n",
              "      <td>49.50</td>\n",
              "      <td>30.00</td>\n",
              "    </tr>\n",
              "  </tbody>\n",
              "</table>\n",
              "</div>"
            ],
            "text/plain": [
              "         Precip  Evap      Tmax      Tmin\n",
              "count  22950.00   0.0  22900.00  22839.00\n",
              "mean       0.38   NaN     31.24     13.34\n",
              "std        4.02   NaN      5.27      5.04\n",
              "min        0.00   NaN     10.00     -2.00\n",
              "25%        0.00   NaN     28.00     10.00\n",
              "50%        0.00   NaN     31.00     12.00\n",
              "75%        0.00   NaN     35.00     17.00\n",
              "max      180.00   NaN     49.50     30.00"
            ]
          },
          "metadata": {
            "tags": []
          },
          "execution_count": 15
        }
      ]
    },
    {
      "cell_type": "code",
      "metadata": {
        "colab": {
          "base_uri": "https://localhost:8080/",
          "height": 419
        },
        "id": "aHiKNCt7Z4xF",
        "outputId": "560b21f1-3b11-42f7-ea6a-37e80adb39bf"
      },
      "source": [
        "#Comienza haciendo una copia del dataframe del paso anterior, por si se requiere recuperar el nuevo dataframe, utilizando df:new=df.copy()\r\n",
        "\r\n",
        "df_nvcopia = df_respaldo.copy()\r\n",
        "\r\n",
        "df_nvcopia"
      ],
      "execution_count": null,
      "outputs": [
        {
          "output_type": "execute_result",
          "data": {
            "text/html": [
              "<div>\n",
              "<style scoped>\n",
              "    .dataframe tbody tr th:only-of-type {\n",
              "        vertical-align: middle;\n",
              "    }\n",
              "\n",
              "    .dataframe tbody tr th {\n",
              "        vertical-align: top;\n",
              "    }\n",
              "\n",
              "    .dataframe thead th {\n",
              "        text-align: right;\n",
              "    }\n",
              "</style>\n",
              "<table border=\"1\" class=\"dataframe\">\n",
              "  <thead>\n",
              "    <tr style=\"text-align: right;\">\n",
              "      <th></th>\n",
              "      <th>Fecha</th>\n",
              "      <th>Precip</th>\n",
              "      <th>Evap</th>\n",
              "      <th>Tmax</th>\n",
              "      <th>Tmin</th>\n",
              "    </tr>\n",
              "  </thead>\n",
              "  <tbody>\n",
              "    <tr>\n",
              "      <th>0</th>\n",
              "      <td>01/09/1952</td>\n",
              "      <td>0.0</td>\n",
              "      <td>NaN</td>\n",
              "      <td>37.0</td>\n",
              "      <td>21.0</td>\n",
              "    </tr>\n",
              "    <tr>\n",
              "      <th>1</th>\n",
              "      <td>02/09/1952</td>\n",
              "      <td>0.0</td>\n",
              "      <td>NaN</td>\n",
              "      <td>36.0</td>\n",
              "      <td>22.0</td>\n",
              "    </tr>\n",
              "    <tr>\n",
              "      <th>2</th>\n",
              "      <td>03/09/1952</td>\n",
              "      <td>0.0</td>\n",
              "      <td>NaN</td>\n",
              "      <td>34.0</td>\n",
              "      <td>23.0</td>\n",
              "    </tr>\n",
              "    <tr>\n",
              "      <th>3</th>\n",
              "      <td>04/09/1952</td>\n",
              "      <td>0.0</td>\n",
              "      <td>NaN</td>\n",
              "      <td>33.0</td>\n",
              "      <td>24.0</td>\n",
              "    </tr>\n",
              "    <tr>\n",
              "      <th>4</th>\n",
              "      <td>05/09/1952</td>\n",
              "      <td>0.0</td>\n",
              "      <td>NaN</td>\n",
              "      <td>38.0</td>\n",
              "      <td>22.0</td>\n",
              "    </tr>\n",
              "    <tr>\n",
              "      <th>...</th>\n",
              "      <td>...</td>\n",
              "      <td>...</td>\n",
              "      <td>...</td>\n",
              "      <td>...</td>\n",
              "      <td>...</td>\n",
              "    </tr>\n",
              "    <tr>\n",
              "      <th>22956</th>\n",
              "      <td>26/12/2017</td>\n",
              "      <td>0.0</td>\n",
              "      <td>NaN</td>\n",
              "      <td>22.0</td>\n",
              "      <td>14.0</td>\n",
              "    </tr>\n",
              "    <tr>\n",
              "      <th>22957</th>\n",
              "      <td>27/12/2017</td>\n",
              "      <td>0.0</td>\n",
              "      <td>NaN</td>\n",
              "      <td>27.0</td>\n",
              "      <td>13.0</td>\n",
              "    </tr>\n",
              "    <tr>\n",
              "      <th>22958</th>\n",
              "      <td>28/12/2017</td>\n",
              "      <td>0.0</td>\n",
              "      <td>NaN</td>\n",
              "      <td>25.0</td>\n",
              "      <td>15.0</td>\n",
              "    </tr>\n",
              "    <tr>\n",
              "      <th>22959</th>\n",
              "      <td>29/12/2017</td>\n",
              "      <td>0.0</td>\n",
              "      <td>NaN</td>\n",
              "      <td>27.0</td>\n",
              "      <td>12.0</td>\n",
              "    </tr>\n",
              "    <tr>\n",
              "      <th>22960</th>\n",
              "      <td>30/12/2017</td>\n",
              "      <td>0.0</td>\n",
              "      <td>NaN</td>\n",
              "      <td>27.0</td>\n",
              "      <td>11.0</td>\n",
              "    </tr>\n",
              "  </tbody>\n",
              "</table>\n",
              "<p>22961 rows × 5 columns</p>\n",
              "</div>"
            ],
            "text/plain": [
              "            Fecha  Precip  Evap  Tmax  Tmin\n",
              "0      01/09/1952     0.0   NaN  37.0  21.0\n",
              "1      02/09/1952     0.0   NaN  36.0  22.0\n",
              "2      03/09/1952     0.0   NaN  34.0  23.0\n",
              "3      04/09/1952     0.0   NaN  33.0  24.0\n",
              "4      05/09/1952     0.0   NaN  38.0  22.0\n",
              "...           ...     ...   ...   ...   ...\n",
              "22956  26/12/2017     0.0   NaN  22.0  14.0\n",
              "22957  27/12/2017     0.0   NaN  27.0  13.0\n",
              "22958  28/12/2017     0.0   NaN  25.0  15.0\n",
              "22959  29/12/2017     0.0   NaN  27.0  12.0\n",
              "22960  30/12/2017     0.0   NaN  27.0  11.0\n",
              "\n",
              "[22961 rows x 5 columns]"
            ]
          },
          "metadata": {
            "tags": []
          },
          "execution_count": 16
        }
      ]
    },
    {
      "cell_type": "code",
      "metadata": {
        "colab": {
          "base_uri": "https://localhost:8080/"
        },
        "id": "_xqdg5xub1-6",
        "outputId": "fd7e253f-2dcb-4334-9b31-e36bfe731ed6"
      },
      "source": [
        "#Utiliza la función de Pandas pd.to_datetime(), para convertir el objeto Fecha a formato de fecha que comprende Python. \r\n",
        "# Lee el manual de esa función e intenta la conversión. \r\n",
        "\r\n",
        "\r\n",
        "df_nvcopia[\"Fecha\"] = pd.to_datetime(df_nvcopia[\"Fecha\"], dayfirst=True ).copy()\r\n",
        "print(df_nvcopia.head())"
      ],
      "execution_count": null,
      "outputs": [
        {
          "output_type": "stream",
          "text": [
            "       Fecha  Precip  Evap  Tmax  Tmin\n",
            "0 1952-09-01     0.0   NaN  37.0  21.0\n",
            "1 1952-09-02     0.0   NaN  36.0  22.0\n",
            "2 1952-09-03     0.0   NaN  34.0  23.0\n",
            "3 1952-09-04     0.0   NaN  33.0  24.0\n",
            "4 1952-09-05     0.0   NaN  38.0  22.0\n"
          ],
          "name": "stdout"
        }
      ]
    },
    {
      "cell_type": "code",
      "metadata": {
        "colab": {
          "base_uri": "https://localhost:8080/"
        },
        "id": "JbogWtmhdvE7",
        "outputId": "1f1a102a-55b7-4591-e341-e6bb4ab9754a"
      },
      "source": [
        "#Después utiliza la función df.dtypes para verificar que todas las variables son del tipo deseado.  \r\n",
        "\r\n",
        "df_nvcopia.dtypes\r\n"
      ],
      "execution_count": null,
      "outputs": [
        {
          "output_type": "execute_result",
          "data": {
            "text/plain": [
              "Fecha     datetime64[ns]\n",
              "Precip           float64\n",
              "Evap             float64\n",
              "Tmax             float64\n",
              "Tmin             float64\n",
              "dtype: object"
            ]
          },
          "metadata": {
            "tags": []
          },
          "execution_count": 18
        }
      ]
    },
    {
      "cell_type": "code",
      "metadata": {
        "id": "V_swCCY8fb9W"
      },
      "source": [
        "#Enseguida con la ayuda de las funciones de Pandas df['Fecha'].dt.year y df['Fecha'].dt.month, crea dos columnas nuevas adicionales df['Año'] y df['Mes']. \r\n",
        "\r\n",
        "df_nvcopia['Año'] = df_nvcopia['Fecha'].dt.year\r\n",
        "df_nvcopia['Mes'] = df_nvcopia['Fecha'].dt.month"
      ],
      "execution_count": null,
      "outputs": []
    },
    {
      "cell_type": "code",
      "metadata": {
        "id": "lkjbFXdVkiju"
      },
      "source": [
        "#Utilizando la función print aplicado a las funciones df.head() y df.tail(), verifica que el dataframe tiene la forma deseada."
      ],
      "execution_count": null,
      "outputs": []
    },
    {
      "cell_type": "code",
      "metadata": {
        "colab": {
          "base_uri": "https://localhost:8080/"
        },
        "id": "6Ca1_SHikT1L",
        "outputId": "5408c2bb-da17-405a-e9fe-10bb573c1740"
      },
      "source": [
        "print(df_nvcopia.head())\r\n",
        "print(df_nvcopia.tail())"
      ],
      "execution_count": null,
      "outputs": [
        {
          "output_type": "stream",
          "text": [
            "       Fecha  Precip  Evap  Tmax  Tmin   Año  Mes\n",
            "0 1952-09-01     0.0   NaN  37.0  21.0  1952    9\n",
            "1 1952-09-02     0.0   NaN  36.0  22.0  1952    9\n",
            "2 1952-09-03     0.0   NaN  34.0  23.0  1952    9\n",
            "3 1952-09-04     0.0   NaN  33.0  24.0  1952    9\n",
            "4 1952-09-05     0.0   NaN  38.0  22.0  1952    9\n",
            "           Fecha  Precip  Evap  Tmax  Tmin   Año  Mes\n",
            "22956 2017-12-26     0.0   NaN  22.0  14.0  2017   12\n",
            "22957 2017-12-27     0.0   NaN  27.0  13.0  2017   12\n",
            "22958 2017-12-28     0.0   NaN  25.0  15.0  2017   12\n",
            "22959 2017-12-29     0.0   NaN  27.0  12.0  2017   12\n",
            "22960 2017-12-30     0.0   NaN  27.0  11.0  2017   12\n"
          ],
          "name": "stdout"
        }
      ]
    },
    {
      "cell_type": "code",
      "metadata": {
        "colab": {
          "base_uri": "https://localhost:8080/"
        },
        "id": "ZuS8hQE3kg4-",
        "outputId": "e2848d54-82ad-4613-928e-bdf35323b592"
      },
      "source": [
        "#Y complementa con la función df.dtypes, para verificar que todas las variables son del tipo adecuado.  \r\n",
        "\r\n",
        "df_nvcopia.dtypes\r\n",
        "df_nvcopia.info()"
      ],
      "execution_count": null,
      "outputs": [
        {
          "output_type": "stream",
          "text": [
            "<class 'pandas.core.frame.DataFrame'>\n",
            "RangeIndex: 22961 entries, 0 to 22960\n",
            "Data columns (total 7 columns):\n",
            " #   Column  Non-Null Count  Dtype         \n",
            "---  ------  --------------  -----         \n",
            " 0   Fecha   22961 non-null  datetime64[ns]\n",
            " 1   Precip  22950 non-null  float64       \n",
            " 2   Evap    0 non-null      float64       \n",
            " 3   Tmax    22900 non-null  float64       \n",
            " 4   Tmin    22839 non-null  float64       \n",
            " 5   Año     22961 non-null  int64         \n",
            " 6   Mes     22961 non-null  int64         \n",
            "dtypes: datetime64[ns](1), float64(4), int64(2)\n",
            "memory usage: 1.2 MB\n"
          ],
          "name": "stdout"
        }
      ]
    },
    {
      "cell_type": "code",
      "metadata": {
        "id": "Vfy3slL9nbx6"
      },
      "source": [
        ""
      ],
      "execution_count": null,
      "outputs": []
    }
  ]
}