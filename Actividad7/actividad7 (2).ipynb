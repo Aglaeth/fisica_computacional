{
  "nbformat": 4,
  "nbformat_minor": 0,
  "metadata": {
    "colab": {
      "name": "actividad7.ipynb",
      "provenance": [],
      "collapsed_sections": []
    },
    "kernelspec": {
      "name": "python3",
      "display_name": "Python 3"
    }
  },
  "cells": [
    {
      "cell_type": "code",
      "metadata": {
        "id": "LiJlY0m8gsut"
      },
      "source": [
        "# Vamos a importar las bibliotecas que seran necesarias durante la actividad\n",
        "# 1 de marzo de 2021\n",
        "# Cargamos las bibliotecas para trabajar en Algebra Lineal\n",
        "\n",
        "import numpy as np\n",
        "import scipy.linalg as la\n",
        "from numpy.linalg import matrix_power as mpow\n",
        "\n",
        "import matplotlib.pyplot as plt\n",
        "%matplotlib inline"
      ],
      "execution_count": null,
      "outputs": []
    },
    {
      "cell_type": "markdown",
      "metadata": {
        "id": "n8emgefGjVGN"
      },
      "source": [
        "\n",
        "Ejercicio 1. Defina las siguientes matrices.\n",
        "\n",
        "$$\\begin{equation*}\n",
        " A\n",
        " =\n",
        "  \\begin{bmatrix}\n",
        "   1 & 3 \\\\\n",
        "   -1 & 7\n",
        "   \\end{bmatrix}\n",
        "\\end{equation*}$$$$\\begin{equation*}\n",
        " B =\n",
        "  \\begin{bmatrix}\n",
        "   5 & 2 \\\\\n",
        "   1 & 2\n",
        "   \\end{bmatrix}\n",
        "\\end{equation*}$$\n",
        "y la matrix identidad\n",
        "\n",
        "$$\\begin{equation*}\n",
        " I = \n",
        "   \\begin{bmatrix}\n",
        "   1 & 0 \\\\\n",
        "   0 & 1\n",
        "   \\end{bmatrix}\n",
        "\\end{equation*}$$\n",
        "\n",
        "Calcule el resultado de $2*I+3*A+A@B$.\n",
        "\n",
        "Para definir la matriz identidad, se puede utilizar la función np.eye(2, dtype=int). Ver manual de np.eye()."
      ]
    },
    {
      "cell_type": "markdown",
      "metadata": {
        "id": "ZChH1BX-g8LK"
      },
      "source": [
        "A continuación realizaremos la siguiente operación \n",
        "2*I + 3*A + A*B"
      ]
    },
    {
      "cell_type": "code",
      "metadata": {
        "colab": {
          "base_uri": "https://localhost:8080/"
        },
        "id": "76zdEmYJg5Ex",
        "outputId": "3b3a229f-9c45-4df2-9bbe-83f863b6a7ed"
      },
      "source": [
        "# Primero la matriz A \n",
        "A = np.array([[1,3],[-1,7]])\n",
        "\n",
        "# Imprimimos la matriz \n",
        "print(A)"
      ],
      "execution_count": null,
      "outputs": [
        {
          "output_type": "stream",
          "text": [
            "[[ 1  3]\n",
            " [-1  7]]\n"
          ],
          "name": "stdout"
        }
      ]
    },
    {
      "cell_type": "code",
      "metadata": {
        "colab": {
          "base_uri": "https://localhost:8080/"
        },
        "id": "0oRz58UNhNBp",
        "outputId": "3b151baa-9e90-4893-dde3-83080f1a0fa3"
      },
      "source": [
        "# Repetimos para B \n",
        "B = np.array([[5,2],[1,2]])\n",
        "\n",
        "# Imprimimos la matriz B \n",
        "print(B)"
      ],
      "execution_count": null,
      "outputs": [
        {
          "output_type": "stream",
          "text": [
            "[[5 2]\n",
            " [1 2]]\n"
          ],
          "name": "stdout"
        }
      ]
    },
    {
      "cell_type": "code",
      "metadata": {
        "colab": {
          "base_uri": "https://localhost:8080/"
        },
        "id": "Rkqyg1a6hd30",
        "outputId": "7ba42910-048e-4411-dad7-05244b1f03b2"
      },
      "source": [
        "# Por ultimo I \n",
        "I=np.eye(2, dtype=int)\n",
        "\n",
        "# Imprimimos la matriz I \n",
        "print(I)"
      ],
      "execution_count": null,
      "outputs": [
        {
          "output_type": "stream",
          "text": [
            "[[1 0]\n",
            " [0 1]]\n"
          ],
          "name": "stdout"
        }
      ]
    },
    {
      "cell_type": "code",
      "metadata": {
        "colab": {
          "base_uri": "https://localhost:8080/"
        },
        "id": "cz3HarNHhlRJ",
        "outputId": "7527504e-2e88-49c5-a41a-4b8b3ae2f850"
      },
      "source": [
        "# Una vez que tenemos las matrices podemos operarlas \n",
        "# Empezamos con el calculo\n",
        "R=(2*I)+(3*A)+(A@B)\n",
        "# Imprimimos el resultado \n",
        "print('El resultado es')\n",
        "print(R)"
      ],
      "execution_count": null,
      "outputs": [
        {
          "output_type": "stream",
          "text": [
            "El resultado es\n",
            "[[13 17]\n",
            " [-1 35]]\n"
          ],
          "name": "stdout"
        }
      ]
    },
    {
      "cell_type": "markdown",
      "metadata": {
        "id": "qKocdRGVk5Dx"
      },
      "source": [
        "Potencias de Matrices\n",
        "\n",
        "No existe un símbolo para denotar las potencias de matrices. Por eso definimos la función 'mpow' en la 1a celda de bibliotecas.\n",
        "\n",
        "from numpy.linalg import matrix_power as mpow"
      ]
    },
    {
      "cell_type": "code",
      "metadata": {
        "colab": {
          "base_uri": "https://localhost:8080/"
        },
        "id": "IZMC4jQah6UQ",
        "outputId": "de40a116-3a39-4fd5-fdec-2a9b72b03b85"
      },
      "source": [
        "# Definimos una matriz M\n",
        "M=np.array([[1,2],[3,4]])\n",
        "\n",
        "# Imprimimos la matriz M \n",
        "print(M)"
      ],
      "execution_count": null,
      "outputs": [
        {
          "output_type": "stream",
          "text": [
            "[[1 2]\n",
            " [3 4]]\n"
          ],
          "name": "stdout"
        }
      ]
    },
    {
      "cell_type": "code",
      "metadata": {
        "colab": {
          "base_uri": "https://localhost:8080/"
        },
        "id": "Vu4NwD-Yi75Y",
        "outputId": "c5673de8-3aa8-497c-cc63-2736e978736b"
      },
      "source": [
        "# Cuadrado: M^2 = M@M\n",
        "print(M@M)\n",
        "print(mpow(M,2))\n"
      ],
      "execution_count": null,
      "outputs": [
        {
          "output_type": "stream",
          "text": [
            "[[ 7 10]\n",
            " [15 22]]\n",
            "[[ 7 10]\n",
            " [15 22]]\n"
          ],
          "name": "stdout"
        }
      ]
    },
    {
      "cell_type": "code",
      "metadata": {
        "colab": {
          "base_uri": "https://localhost:8080/"
        },
        "id": "cW555ml6k_u3",
        "outputId": "3d641d1a-c9ba-41f8-dc2c-8bf603f07cda"
      },
      "source": [
        "# Quinta potencia: M^5 = M@M@M@M@M\n",
        "print(M@M@M@M@M)\n",
        "print(mpow(M,5))"
      ],
      "execution_count": null,
      "outputs": [
        {
          "output_type": "stream",
          "text": [
            "[[1069 1558]\n",
            " [2337 3406]]\n",
            "[[1069 1558]\n",
            " [2337 3406]]\n"
          ],
          "name": "stdout"
        }
      ]
    },
    {
      "cell_type": "markdown",
      "metadata": {
        "id": "2plb6PWklMuj"
      },
      "source": [
        "Matriz Transpuesta $M^T$"
      ]
    },
    {
      "cell_type": "code",
      "metadata": {
        "colab": {
          "base_uri": "https://localhost:8080/"
        },
        "id": "Cb-C6lvwlCQ9",
        "outputId": "6b07bbaf-9295-48d7-e781-e65d8b0922db"
      },
      "source": [
        "# La matriz M y su transpuesta\n",
        "print(M)\n",
        "print(M.T)"
      ],
      "execution_count": null,
      "outputs": [
        {
          "output_type": "stream",
          "text": [
            "[[1 2]\n",
            " [3 4]]\n",
            "[[1 3]\n",
            " [2 4]]\n"
          ],
          "name": "stdout"
        }
      ]
    },
    {
      "cell_type": "code",
      "metadata": {
        "colab": {
          "base_uri": "https://localhost:8080/"
        },
        "id": "P6czY_7BlQQH",
        "outputId": "71e51636-258c-4c3e-9ffd-f6763ce8c23d"
      },
      "source": [
        "# El producto de M por M.T, debe ser una matriz simétrica.\n",
        "M @ M.T"
      ],
      "execution_count": null,
      "outputs": [
        {
          "output_type": "execute_result",
          "data": {
            "text/plain": [
              "array([[ 5, 11],\n",
              "       [11, 25]])"
            ]
          },
          "metadata": {
            "tags": []
          },
          "execution_count": 31
        }
      ]
    },
    {
      "cell_type": "markdown",
      "metadata": {
        "id": "9_t47L1dmEXc"
      },
      "source": [
        "Ejercicio 2. Los polinomios característicos y el Teorema de Cayley-Hamilton.\n",
        "\n",
        "El polinomio característico de una matriz M esta dado en general por la ecuación$$\n",
        "\\det(M - \\lambda I) = 0\n",
        "$$Para una matriz cuadrada M (2x2), el polinomio característico se puede escribir como$$\n",
        "P_2 (\\lambda) = \\det{(M)} - \\mathrm{tr}(M) \\, \\lambda + \\lambda^2   \n",
        "$$y para una matriz cuadrada M (3x3), el polinomio característico resulta ser\n",
        "\n",
        "$$\n",
        "P_3 (\\lambda) = \\frac{1}{6} \n",
        "[ \\mathrm{tr}^3 (M) + 2 \\, \\mathrm{tr }(M^3) - 3 \\, \\mathrm{tr}(M) \\mathrm{tr}(M^2) ] - \n",
        "\\frac{1}{2} [ \\mathrm{tr}^2 (M) - \\mathrm{tr}(M^2) ] \\lambda + \\mathrm{tr}(M) \\lambda^2 - \\lambda^3\n",
        "$$\n",
        "El Teorema de Cayley-Hamilton nos dice que una matriz cuadrada M (2x2), satisface el polinomio característico$$\n",
        "P_2(M) = \\det(M) - \\mathrm{tr}(M) M + M^2 \n",
        "$$y en general cualquier matriz cuadrada M (nxn), satisface $P_n(M)$.\n",
        "\n",
        "Demuestre esto para cualquier matriz M (2x2), ($\\det(M) \\neq 0$)."
      ]
    },
    {
      "cell_type": "code",
      "metadata": {
        "colab": {
          "base_uri": "https://localhost:8080/"
        },
        "id": "dJSATmSXlYyA",
        "outputId": "4f822fc7-8286-4c6b-90fa-2106ffb3d4cb"
      },
      "source": [
        "# Definimos una matriz M \n",
        "M = np.array([[1,2],[3,4]])\n",
        "\n",
        "# Imprimimos la matriz M \n",
        "print('M =', M)\n"
      ],
      "execution_count": null,
      "outputs": [
        {
          "output_type": "stream",
          "text": [
            "M = [[1 2]\n",
            " [3 4]]\n"
          ],
          "name": "stdout"
        }
      ]
    },
    {
      "cell_type": "code",
      "metadata": {
        "colab": {
          "base_uri": "https://localhost:8080/"
        },
        "id": "xs9HVEJUoU6-",
        "outputId": "9c93fdf3-6ef5-45c7-c9e6-1e11694d4644"
      },
      "source": [
        "# Definimos el determinante \n",
        "M_det = la.det(M)\n",
        "\n",
        "# Definimos la traza de una matriz \n",
        "trM = np.trace(M)\n",
        "\n",
        "# Imprimimos las correspondiete determinante y traza\n",
        "print('det(M) = ', M_det)\n",
        "print('tr(M) = ', trM)"
      ],
      "execution_count": null,
      "outputs": [
        {
          "output_type": "stream",
          "text": [
            "det(M) =  -2.0\n",
            "tr(M) =  5\n"
          ],
          "name": "stdout"
        }
      ]
    },
    {
      "cell_type": "code",
      "metadata": {
        "colab": {
          "base_uri": "https://localhost:8080/"
        },
        "id": "dELruTQ0ok9u",
        "outputId": "3b3dac05-e067-46ed-ba40-1f7b5b17469a"
      },
      "source": [
        "\n",
        "# Matriz identidad\n",
        "I = np.eye(2, dtype=int)\n",
        "\n",
        "# Teorema de Cayley-Hamilton, polinomio característico\n",
        "PM = M_det*I - trM*M + M@M\n",
        "\n",
        "# Imprimimos la matriz identidad \n",
        "print(I)\n",
        "\n",
        "# Comprobamos el Teorema de Cayley- Hamilton\n",
        "print(PM)\n"
      ],
      "execution_count": null,
      "outputs": [
        {
          "output_type": "stream",
          "text": [
            "[[1 0]\n",
            " [0 1]]\n",
            "[[0. 0.]\n",
            " [0. 0.]]\n"
          ],
          "name": "stdout"
        }
      ]
    },
    {
      "cell_type": "markdown",
      "metadata": {
        "id": "NqxsyKGpqlIV"
      },
      "source": [
        "\n",
        "Ejercicio 3:\n",
        "\n",
        "Resuelva el sistema de ecuaciones.\n",
        "\n",
        "$$\\begin{eqnarray*}\n",
        "x - 3 y + z & = & 1 \\\\ \\nonumber\n",
        "3 x - 4y + z & = & 5 \\\\ \\nonumber\n",
        "2 y - z & = & 0 \\\\ \\nonumber\n",
        "\\end{eqnarray*}$$\n",
        "de dos formas, utilizando el Método de Eliminación Gaussiana y la utilzando la función scipy.linalg.solve()"
      ]
    },
    {
      "cell_type": "markdown",
      "metadata": {
        "id": "5gCNKyZXrmmU"
      },
      "source": [
        "Método de Eliminación Gaussiana"
      ]
    },
    {
      "cell_type": "code",
      "metadata": {
        "id": "3uJqT2h9qr_I"
      },
      "source": [
        "# Implementación del método de eliminación Gaussiana\n",
        "# Definimos 3 funciones\n",
        "\n",
        "# Intercambio de posición de renglones.\n",
        "def switch_rows(A,i,j):\n",
        "  \"Intercambiar renglones i y j en la Matriz A.\"\n",
        "  n=A.shape[0]\n",
        "  E=np.eye(n)\n",
        "  E[i,i]=0\n",
        "  E[j,j]=0\n",
        "  E[i,j]=1\n",
        "  E[j,i]=1\n",
        "  return E @ A\n",
        "\n",
        "# Multiplicar un renglón por un aconstante no nula.\n",
        "def scale_row(A,k,i):\n",
        "  \"Multiplicar el renglón i por k en la Matriz A.\"\n",
        "  n=A.shape[0]\n",
        "  E=np.eye(n)\n",
        "  E[i,i]=k\n",
        "  return E @ A\n",
        "\n",
        "# Sumar un múltiplo de un renglón a otro renglón.\n",
        "def add_row(A,k,i,j):\n",
        "  \"Sumar k vaces el renglón j al renglón i en la Matriz A.\"\n",
        "  n=A.shape[0]\n",
        "  E=np.eye(n)\n",
        "  if i== j:\n",
        "    E[i,j]=k+1\n",
        "  else:\n",
        "    E[i,j]=k\n",
        "  return E @ A"
      ],
      "execution_count": null,
      "outputs": []
    },
    {
      "cell_type": "code",
      "metadata": {
        "colab": {
          "base_uri": "https://localhost:8080/"
        },
        "id": "m8qONm_jrw9G",
        "outputId": "723dd1b5-6bf9-417b-a84d-c3e527ac7e66"
      },
      "source": [
        "# Empezamos declarando una matriz \n",
        "# La llamaremos U \n",
        "\n",
        "U = np.array([[1,-3,1],[3,-4,1],[0,2,-1]])\n",
        "\n",
        "# Imprimimos U \n",
        "\n",
        "print(U)"
      ],
      "execution_count": null,
      "outputs": [
        {
          "output_type": "stream",
          "text": [
            "[[ 1 -3  1]\n",
            " [ 3 -4  1]\n",
            " [ 0  2 -1]]\n"
          ],
          "name": "stdout"
        }
      ]
    },
    {
      "cell_type": "code",
      "metadata": {
        "colab": {
          "base_uri": "https://localhost:8080/"
        },
        "id": "RuOGJVw3trEN",
        "outputId": "1593a26a-18eb-4562-f6a3-ab38b669bcbb"
      },
      "source": [
        "#Matriz Aumentada P: Unimos la Matriz U con la Matriz Identidad\n",
        "P = np.hstack([U,np.eye(3)])\n",
        "print(P)"
      ],
      "execution_count": null,
      "outputs": [
        {
          "output_type": "stream",
          "text": [
            "[[ 1. -3.  1.  1.  0.  0.]\n",
            " [ 3. -4.  1.  0.  1.  0.]\n",
            " [ 0.  2. -1.  0.  0.  1.]]\n"
          ],
          "name": "stdout"
        }
      ]
    },
    {
      "cell_type": "code",
      "metadata": {
        "colab": {
          "base_uri": "https://localhost:8080/"
        },
        "id": "ZecqVOb0uBE4",
        "outputId": "8bc47e3c-599c-4352-d160-60077d918d98"
      },
      "source": [
        "# Tendremos una nueva etiqueta la cual llamaremos P1\n",
        "\n",
        "P1 = add_row(P,-3,1,0)\n",
        "print(P1)"
      ],
      "execution_count": null,
      "outputs": [
        {
          "output_type": "stream",
          "text": [
            "[[ 1. -3.  1.  1.  0.  0.]\n",
            " [ 0.  5. -2. -3.  1.  0.]\n",
            " [ 0.  2. -1.  0.  0.  1.]]\n"
          ],
          "name": "stdout"
        }
      ]
    },
    {
      "cell_type": "code",
      "metadata": {
        "colab": {
          "base_uri": "https://localhost:8080/"
        },
        "id": "KybkvfbZufc-",
        "outputId": "1908c06f-e943-4753-877e-0b609f3e4f0c"
      },
      "source": [
        "# Tendremos una nueva etiqueta la cual llamaremos P2\n",
        "# Ocuparemos resultados previos de P1\n",
        "P2 = scale_row(P1,5,1)\n",
        "print(P2)"
      ],
      "execution_count": null,
      "outputs": [
        {
          "output_type": "stream",
          "text": [
            "[[  1.  -3.   1.   1.   0.   0.]\n",
            " [  0.  25. -10. -15.   5.   0.]\n",
            " [  0.   2.  -1.   0.   0.   1.]]\n"
          ],
          "name": "stdout"
        }
      ]
    },
    {
      "cell_type": "code",
      "metadata": {
        "colab": {
          "base_uri": "https://localhost:8080/"
        },
        "id": "VePx2Sczu8hw",
        "outputId": "fc144eea-6177-45b7-b7bb-799b02219248"
      },
      "source": [
        "# Tendremos una nueva etiqueta la cual llamaremos P3 \n",
        "# Usaremos resultados pervios en este caso P2 \n",
        "\n",
        "P3 = add_row(P2,7,2,0)\n",
        "print(P3)"
      ],
      "execution_count": null,
      "outputs": [
        {
          "output_type": "stream",
          "text": [
            "[[  1.  -3.   1.   1.   0.   0.]\n",
            " [  0.  25. -10. -15.   5.   0.]\n",
            " [  7. -19.   6.   7.   0.   1.]]\n"
          ],
          "name": "stdout"
        }
      ]
    },
    {
      "cell_type": "code",
      "metadata": {
        "colab": {
          "base_uri": "https://localhost:8080/"
        },
        "id": "lvzptsiCvr8g",
        "outputId": "8911401b-b5dc-4208-b656-7a167129d29e"
      },
      "source": [
        "# Tedremos una nueva etiqueta la cual llamaremos P4 \n",
        "# Usaremos el resultado previo el cual sera P3\n",
        "\n",
        "P4 = add_row(P3,5,1,1)\n",
        "print(P4)"
      ],
      "execution_count": null,
      "outputs": [
        {
          "output_type": "stream",
          "text": [
            "[[  1.  -3.   1.   1.   0.   0.]\n",
            " [  0. 150. -60. -90.  30.   0.]\n",
            " [  7. -19.   6.   7.   0.   1.]]\n"
          ],
          "name": "stdout"
        }
      ]
    },
    {
      "cell_type": "code",
      "metadata": {
        "colab": {
          "base_uri": "https://localhost:8080/"
        },
        "id": "g-0E6x9TzDKR",
        "outputId": "42ab4b0e-6a05-47e4-de96-646fae982d10"
      },
      "source": [
        "# Tendremos una nueva etiqueta la cual llamaremos P5\n",
        "# Usaremos el resultado previo el cual sera P4\n",
        "\n",
        "P5 = scale_row(P4,1/2,1)\n",
        "print(P5)"
      ],
      "execution_count": null,
      "outputs": [
        {
          "output_type": "stream",
          "text": [
            "[[  1.  -3.   1.   1.   0.   0.]\n",
            " [  0.  75. -30. -45.  15.   0.]\n",
            " [  7. -19.   6.   7.   0.   1.]]\n"
          ],
          "name": "stdout"
        }
      ]
    },
    {
      "cell_type": "code",
      "metadata": {
        "colab": {
          "base_uri": "https://localhost:8080/"
        },
        "id": "yVnb2Zio0Eqh",
        "outputId": "85df2f71-a212-4cd0-8dc2-e2cfb4e75e52"
      },
      "source": [
        "# Tendremos una nueva etiqueta la cual llamaremos P6\n",
        "\n",
        "P6 = add_row(P5,2,0,1)\n",
        "print(np.round(P6,2))"
      ],
      "execution_count": null,
      "outputs": [
        {
          "output_type": "stream",
          "text": [
            "[[  1. 147. -59. -89.  30.   0.]\n",
            " [  0.  75. -30. -45.  15.   0.]\n",
            " [  7. -19.   6.   7.   0.   1.]]\n"
          ],
          "name": "stdout"
        }
      ]
    },
    {
      "cell_type": "markdown",
      "metadata": {
        "id": "viqLwaMC10Tv"
      },
      "source": [
        "La función scipy.linalg.solve()\n",
        "\n"
      ]
    },
    {
      "cell_type": "code",
      "metadata": {
        "colab": {
          "base_uri": "https://localhost:8080/"
        },
        "id": "fibx6kON1GYL",
        "outputId": "8b7c6097-487f-4ae4-8dc0-40463724f1fd"
      },
      "source": [
        "# Definiendo el vector b\n",
        "b=np.array([1,5,0]).reshape(3,1)\n",
        "print(b)"
      ],
      "execution_count": null,
      "outputs": [
        {
          "output_type": "stream",
          "text": [
            "[[1]\n",
            " [5]\n",
            " [0]]\n"
          ],
          "name": "stdout"
        }
      ]
    },
    {
      "cell_type": "code",
      "metadata": {
        "colab": {
          "base_uri": "https://localhost:8080/"
        },
        "id": "GxtB-sPC15uB",
        "outputId": "7735a579-ef73-4ccf-92b7-3068fc2398b6"
      },
      "source": [
        "# Resolviendo el sistema de ecuaciones usando scipy.linalg.solve\n",
        "x_sol=la.solve(U,b)\n",
        "print(x_sol)"
      ],
      "execution_count": null,
      "outputs": [
        {
          "output_type": "stream",
          "text": [
            "[[3.]\n",
            " [2.]\n",
            " [4.]]\n"
          ],
          "name": "stdout"
        }
      ]
    },
    {
      "cell_type": "markdown",
      "metadata": {
        "id": "CzT0c_Mw6WZ3"
      },
      "source": [
        "Ejercicio 4:\n",
        "\n",
        "Dadas las siguientes matrices $B_1, B_2$ y $B_3$\n",
        "\n",
        "(Ejemplos del artículo de Wikipedia sobre Eigenvalores y Eigenvectores)\n",
        "\n",
        "$$\\begin{equation*}\n",
        "B_1 = \\begin{bmatrix}\n",
        "2 & 0 & 0 \\\\\n",
        "0 & 3 & 4 \\\\\n",
        "0 & 4 & 9 \\\\\n",
        "\\end{bmatrix}\n",
        "\\end{equation*}$$$$\\begin{equation*}\n",
        "B_2 = \\begin{bmatrix}\n",
        "0 & 1 & 0 \\\\\n",
        "0 & 0 & 1 \\\\\n",
        "1 & 0 & 0 \\\\\n",
        "\\end{bmatrix}\n",
        "\\end{equation*}$$$$\\begin{equation*}\n",
        "B_3 = \\begin{bmatrix}\n",
        "2 & 0 & 0 & 0\\\\\n",
        "1 & 2 & 0 & 0 \\\\\n",
        "0 & 1 & 3 & 0 \\\\\n",
        "0 & 0 & 1 & 3 \\\\\n",
        "\\end{bmatrix}\n",
        "\\end{equation*}$$\n",
        "Encuentra los eigenvalores y eigenvectores de cada matriz utilizando la función de scipy.linalg.eig(), y contrasta tus resultados en cada caso con los que se desarrollan en los ejemplos de la Wikipedia."
      ]
    },
    {
      "cell_type": "code",
      "metadata": {
        "id": "std2IHm218nJ",
        "colab": {
          "base_uri": "https://localhost:8080/"
        },
        "outputId": "06bcfd0b-bfa8-412a-c159-538d09b1af9e"
      },
      "source": [
        "# Empezamos definiendo las matrices B1 \n",
        "\n",
        "B1 = np.array([[2,0,0],[0,3,4],[0,4,9]])\n",
        "\n",
        "print(B1)\n"
      ],
      "execution_count": null,
      "outputs": [
        {
          "output_type": "stream",
          "text": [
            "[[2 0 0]\n",
            " [0 3 4]\n",
            " [0 4 9]]\n"
          ],
          "name": "stdout"
        }
      ]
    },
    {
      "cell_type": "code",
      "metadata": {
        "colab": {
          "base_uri": "https://localhost:8080/"
        },
        "id": "gN8TCLMfy_Q7",
        "outputId": "a9379d20-90ff-4d93-e599-53103bc5d67c"
      },
      "source": [
        "# Ahora definimos la matriz B2 \n",
        "\n",
        "B2 = np.array([[0,1,0],[0,0,1],[1,0,0]])\n",
        "\n",
        "print(B2)"
      ],
      "execution_count": null,
      "outputs": [
        {
          "output_type": "stream",
          "text": [
            "[[0 1 0]\n",
            " [0 0 1]\n",
            " [1 0 0]]\n"
          ],
          "name": "stdout"
        }
      ]
    },
    {
      "cell_type": "code",
      "metadata": {
        "colab": {
          "base_uri": "https://localhost:8080/"
        },
        "id": "wJBt-AlrzM4t",
        "outputId": "a5f6cb20-5671-4082-dbb5-2e964666f3a4"
      },
      "source": [
        "# Por ultimo definimos la matriz B3 \n",
        "\n",
        "B3 = np.array([[2,0,0,0],[1,2,0,0],[0,1,3,0],[0,0,1,3]])\n",
        "\n",
        "print(B3)"
      ],
      "execution_count": null,
      "outputs": [
        {
          "output_type": "stream",
          "text": [
            "[[2 0 0 0]\n",
            " [1 2 0 0]\n",
            " [0 1 3 0]\n",
            " [0 0 1 3]]\n"
          ],
          "name": "stdout"
        }
      ]
    },
    {
      "cell_type": "code",
      "metadata": {
        "colab": {
          "base_uri": "https://localhost:8080/"
        },
        "id": "VBIB5E3MzQDZ",
        "outputId": "34f6fa16-c00b-42e6-9765-7a58ea3b2d65"
      },
      "source": [
        "# Obtenemos los eigenvalores/vectores con la biblioteca scipy.linalg.eig()\n",
        "# Primero para la matriz B1 \n",
        "eigvals1, eigvecs1 = la.eig(B1)\n",
        "print('Los eigenvalores de B1:')\n",
        "print(np.round(eigvals1,2))\n",
        "print('Los eigenvectores de B1:')\n",
        "print(np.round(eigvecs1,2))\n",
        "print('             ')"
      ],
      "execution_count": null,
      "outputs": [
        {
          "output_type": "stream",
          "text": [
            "Los eigenvalores de B1:\n",
            "[11.+0.j  1.+0.j  2.+0.j]\n",
            "Los eigenvectores de B1:\n",
            "[[ 0.    0.    1.  ]\n",
            " [ 0.45  0.89  0.  ]\n",
            " [ 0.89 -0.45  0.  ]]\n",
            "             \n"
          ],
          "name": "stdout"
        }
      ]
    },
    {
      "cell_type": "code",
      "metadata": {
        "colab": {
          "base_uri": "https://localhost:8080/"
        },
        "id": "znK7dHArzUSh",
        "outputId": "d8a009f0-054d-45a7-975e-315c45de2515"
      },
      "source": [
        "# Obtenemos los eigenvalores/vectores con la biblioteca scipy.linalg.eig()\n",
        "# Primero para la matriz B2 \n",
        "eigvals2, eigvecs2 = la.eig(B2)\n",
        "print('Los eigenvalores de B2:')\n",
        "print(np.round(eigvals2,2))\n",
        "print('Los eigenvectores de B2:')\n",
        "print(np.round(eigvecs2,2))\n",
        "print('             ')\n"
      ],
      "execution_count": null,
      "outputs": [
        {
          "output_type": "stream",
          "text": [
            "Los eigenvalores de B2:\n",
            "[-0.5+0.87j -0.5-0.87j  1. +0.j  ]\n",
            "Los eigenvectores de B2:\n",
            "[[ 0.58+0.j   0.58-0.j  -0.58+0.j ]\n",
            " [-0.29+0.5j -0.29-0.5j -0.58+0.j ]\n",
            " [-0.29-0.5j -0.29+0.5j -0.58+0.j ]]\n",
            "             \n"
          ],
          "name": "stdout"
        }
      ]
    },
    {
      "cell_type": "code",
      "metadata": {
        "colab": {
          "base_uri": "https://localhost:8080/"
        },
        "id": "FwlnDkD9zYgi",
        "outputId": "fc4271c6-d89e-4b25-bd05-e5183049ff09"
      },
      "source": [
        "# Obtenemos los eigenvalores/vectores con la biblioteca scipy.linalg.eig()\n",
        "# Primero para la matriz B3\n",
        "eigvals3, eigvecs3 = la.eig(B3)\n",
        "print('Los eigenvalores de B3:')\n",
        "print(np.round(eigvals3,2))\n",
        "print('Los eigenvectores de B1:')\n",
        "print(np.round(eigvecs3,2))\n",
        "print(eigvecs1)"
      ],
      "execution_count": null,
      "outputs": [
        {
          "output_type": "stream",
          "text": [
            "Los eigenvalores de B3:\n",
            "[3.+0.j 3.+0.j 2.+0.j 2.+0.j]\n",
            "Los eigenvectores de B1:\n",
            "[[ 0.    0.    0.    0.  ]\n",
            " [ 0.    0.    0.58 -0.58]\n",
            " [ 0.    0.   -0.58  0.58]\n",
            " [ 1.   -1.    0.58 -0.58]]\n",
            "[[ 0.          0.          1.        ]\n",
            " [ 0.4472136   0.89442719  0.        ]\n",
            " [ 0.89442719 -0.4472136   0.        ]]\n"
          ],
          "name": "stdout"
        }
      ]
    },
    {
      "cell_type": "markdown",
      "metadata": {
        "id": "p-sdarYGfX5X"
      },
      "source": [
        "Ejercicio 5. Se tienen los siguientes 8 puntos:\n",
        "\n",
        "$$\\begin{eqnarray*} \n",
        "(x & y) \\\\\n",
        "(0.0 &, 0.0), \\\\ \n",
        "(0.5 &, 0.47942), \\\\ \n",
        "(1.0 &, 0.84147), \\\\\n",
        "(1.5 &, 0.99749), \\\\\n",
        "(2.0 &, 0.90930), \\\\\n",
        "(2.5 &, 0.59847), \\\\\n",
        "(3.0 &, 0.14112), \\\\\n",
        "(3.5 &, -0.35078) \\\\\n",
        "\\end{eqnarray*}$$\n",
        "Encuentre un polinomio interpolante $p(x)$ que pase por los 8 puntos.\n",
        "\n",
        "Sobreponga la función $y=\\sin(x)$ y contrástela con el polinomio $p(x)$."
      ]
    },
    {
      "cell_type": "code",
      "metadata": {
        "id": "MWw7t5QCz5ze"
      },
      "source": [
        "# Declaramos los elementos tanto los del eje x como los del eje y \n",
        "x = np.array([0.0,0.5,1.0,1.5,2.0,2.5,3.0,3.5])\n",
        "\n",
        "y = np.array([0.0,0.47942,0.84147,0.99749,0.90930,0.59847,0.14112,-0.35078])\n"
      ],
      "execution_count": null,
      "outputs": []
    },
    {
      "cell_type": "code",
      "metadata": {
        "colab": {
          "base_uri": "https://localhost:8080/",
          "height": 279
        },
        "id": "4opvNG6RgdzJ",
        "outputId": "3a3bcfa2-8449-440a-9ded-89cb5bb47604"
      },
      "source": [
        "# Ahora vamos a graficar los valores para generar una grafica \n",
        "plt.plot(x,y,'r.', color='purple')\n",
        "plt.grid()\n",
        "plt.xlabel('eje x')\n",
        "plt.ylabel('eje y')\n",
        "plt.show()"
      ],
      "execution_count": null,
      "outputs": [
        {
          "output_type": "display_data",
          "data": {
            "image/png": "[encoded data removed]",
            "text/plain": [
              "<Figure size 432x288 with 1 Axes>"
            ]
          },
          "metadata": {
            "tags": [],
            "needs_background": "light"
          }
        }
      ]
    },
    {
      "cell_type": "code",
      "metadata": {
        "colab": {
          "base_uri": "https://localhost:8080/"
        },
        "id": "g3jqz1V1hUUj",
        "outputId": "4dc42822-3edd-4a0d-e9cd-c01a1f617b4b"
      },
      "source": [
        "#La biblioteca Numpy tiene una función para crear la matriz de Vandemonde\n",
        "X = np.vander(x, increasing=True)\n",
        "# Vamos a imprimir los primeros 4 renglones\n",
        "# Al igual imprimimos 4 primeros columnas \n",
        "# Generaremos un arreglo de [4,4]\n",
        "print(X[:4,:4])"
      ],
      "execution_count": null,
      "outputs": [
        {
          "output_type": "stream",
          "text": [
            "[[1.    0.    0.    0.   ]\n",
            " [1.    0.5   0.25  0.125]\n",
            " [1.    1.    1.    1.   ]\n",
            " [1.    1.5   2.25  3.375]]\n"
          ],
          "name": "stdout"
        }
      ]
    },
    {
      "cell_type": "code",
      "metadata": {
        "colab": {
          "base_uri": "https://localhost:8080/"
        },
        "id": "Jme_V3qKh6Uj",
        "outputId": "225d1191-5913-4e1a-91a7-98203493e3da"
      },
      "source": [
        "# Vector y\n",
        "y = np.array(y).reshape(8,1)\n",
        "\n",
        "# Usamos la función de scipy.linalg.solve(), para encontrar los 8 coeficientes \n",
        "# de la solución lineal Xa=y\n",
        "l = la.solve(X,y)\n",
        "print(np.round(l,5))"
      ],
      "execution_count": null,
      "outputs": [
        {
          "output_type": "stream",
          "text": [
            "[[ 0.00000e+00]\n",
            " [ 1.00067e+00]\n",
            " [-3.71000e-03]\n",
            " [-1.58870e-01]\n",
            " [-8.30000e-03]\n",
            " [ 1.32000e-02]\n",
            " [-1.54000e-03]\n",
            " [ 2.00000e-05]]\n"
          ],
          "name": "stdout"
        }
      ]
    },
    {
      "cell_type": "code",
      "metadata": {
        "colab": {
          "base_uri": "https://localhost:8080/",
          "height": 295
        },
        "id": "oInH4x8piprX",
        "outputId": "6e704f72-7a79-4fde-a67c-0f77389688ab"
      },
      "source": [
        "#Graficamos el polinomio interpolante y los puntos interpolados\n",
        "xs = np.linspace(0,52,110)\n",
        "ys = sum([a[k]*xs**k for k in range(0,8)])\n",
        "plt.plot(x,y,'r.',xs,ys,color='r')\n",
        "plt.plot(x, np.sin(x), color='purple')\n",
        "plt.grid()\n",
        "plt.title('Polinomio interpolante p(x)')\n",
        "plt.xlabel('x')\n",
        "plt.ylabel('y')\n",
        "plt.show()"
      ],
      "execution_count": null,
      "outputs": [
        {
          "output_type": "display_data",
          "data": {
            "image/png": "[encoded data removed]",
            "text/plain": [
              "<Figure size 432x288 with 1 Axes>"
            ]
          },
          "metadata": {
            "tags": [],
            "needs_background": "light"
          }
        }
      ]
    },
    {
      "cell_type": "markdown",
      "metadata": {
        "id": "RFyBWtcsjxcS"
      },
      "source": [
        "Ejercicio 6. Regrese a su modelo de análisis de series de tiempo. Haga una descomposición de su serie de tiempo de las temperaturas (Tmax y Tmin), y realice una regresión lineal sobre la serie de Tendencia de Temp $(T = a_0 + a_1 t)$. Encuentre si la pendiente es positiva o negativa de la tendencia (signo de $a_1$), es decir si las Temperaturas (Tmax, Tmin) están subiendo o bajando en el periodo analizado."
      ]
    },
    {
      "cell_type": "markdown",
      "metadata": {
        "id": "NHFsfku_kU7W"
      },
      "source": [
        "NOTA: Pueden trabajar en sus Notebooks de la Actividad 5 o 6 y hacer el ajuste de regresión lineal allá donde tienen todo cargado en la memoria y luego copiar unas celdas de texto de esa Notebook y agregarlas al final de su Notebook de la Actividad 7. Así no tienen que cargar a la memoria todas las operaciones."
      ]
    },
    {
      "cell_type": "code",
      "metadata": {
        "colab": {
          "base_uri": "https://localhost:8080/"
        },
        "id": "zBolZDy4i94E",
        "outputId": "4c6945e0-c90d-4d87-905e-7a89a095c784"
      },
      "source": [
        "# Pronóstico de Series de Tiempo\n",
        "\n",
        "# Importamos las bibliotecas a utilizar\n",
        "import pandas as pd\n",
        "import numpy as np\n",
        "import matplotlib.pyplot as plt\n",
        "import seaborn as sns\n",
        "\n",
        "# Bibliotecas para el análisis de Series de Tiempo y Modelos de Pronóstico\n",
        "import statsmodels.api as sm\n",
        "from statsmodels.tsa.stattools import adfuller\n",
        "from statsmodels.tsa.arima_model import ARIMA\n",
        "from statsmodels.tsa.stattools import acf, pacf\n",
        "import pandas.util.testing as tm\n",
        "\n",
        "# Suprimir mensajes de alertas de cambios futuros\n",
        "import warnings\n",
        "warnings.simplefilter(action='ignore', category=FutureWarning)\n",
        "\n",
        "# Matplotlib mostrará los resultados en la Notebook de Jupyter\n",
        "%matplotlib inline"
      ],
      "execution_count": null,
      "outputs": [
        {
          "output_type": "stream",
          "text": [
            "/usr/local/lib/python3.7/dist-packages/statsmodels/tools/_testing.py:19: FutureWarning: pandas.util.testing is deprecated. Use the functions in the public API at pandas.testing instead.\n",
            "  import pandas.util.testing as tm\n"
          ],
          "name": "stderr"
        }
      ]
    },
    {
      "cell_type": "code",
      "metadata": {
        "colab": {
          "base_uri": "https://localhost:8080/"
        },
        "id": "kiW8InDblEjJ",
        "outputId": "5e4e1ef6-eb57-4fb2-ba72-81bc048faa25"
      },
      "source": [
        "url = 'https://raw.githubusercontent.com/Aglaeth/fisica_computacional/main/Actividad4/3042.txt'\n",
        "\n",
        "# Definimos los nombres de las columnas\n",
        "# El archivo tiene códigos ASCII extendido (Español), encoding='cp1251'\n",
        "# El separador de datos es de uno o más espacios, sep='\\s+'\n",
        "# Se brincará los primeros 19 renglones y el último, afirmamos que no nay encabezado\n",
        "# Se procesan los datos utilizando Python, engine='python' \n",
        "my_cols = ['Fecha','Precip','Evap','Tmax','Tmin',]\n",
        "df_Pocitas = pd.read_csv(url, names=my_cols, encoding='cp1251', sep='\\s+', header=None, skiprows=19, skipfooter=1, engine='python') \n",
        "\n",
        "# Hacemos una copia de trabajo y preservamos el dataframe original\n",
        "df_Poc = df_Pocitas.copy()\n",
        "\n",
        "# Cambiamos la palabra nulo por un vacío y verificamos\n",
        "str_Nulo = 'Nulo'\n",
        "df_Paz = df_Poc.replace(to_replace=str_Nulo, value='', regex=True)\n",
        "\n",
        "# Convertimos los valores de las variables ambientales a números flotantes y verificamos \n",
        "cols_list = ['Precip', 'Evap', 'Tmax', 'Tmin']\n",
        "for cols in cols_list:\n",
        "  df_Paz[cols] = pd.to_numeric(df_Poc[cols], errors='coerce')\n",
        "\n",
        "\n",
        "# Definimos un nuevo dataframe por si hay que regresarse\n",
        "df_nuv = df_Paz.copy()\n",
        "df_nuv['Fecha'].head()\n",
        "\n",
        "# Se convierte el objeto Fecha a variable fecha que python reconoce\n",
        "df_nuv['Fecha'] = pd.to_datetime(df_nuv['Fecha'], dayfirst=True).copy()\n",
        "\n",
        "\n",
        "# Añadimos dos columnas adicionales: df['Año'], df['Mes']\n",
        "# Usaremos la función .dt.year y .dt.month para extraer el Año y Mes de la Fecha\n",
        "df_nuv['Año'] = df_nuv['Fecha'].dt.year\n",
        "df_nuv['Mes'] = df_nuv['Fecha'].dt.month\n",
        "\n",
        "# Hacemos una copia del trabajo y es con el que trabajaremos para el análisis de datos\n",
        "df_met = df_nuv.copy()\n",
        "\n",
        "# Eliminamos la columna de Mes(numérico) y agregamos Mes(caractéres)\n",
        "df_met.drop('Mes', axis=1, inplace=True)\n",
        "df_met['Mes'] = df_met['Fecha'].dt.strftime('%b')\n",
        "\n",
        "# Nueva copia del DataFrame para Series de Tiempo\n",
        "df_met_ts = df_met.copy()\n",
        "\n",
        "# Reemplazamos el índice por la variable 'Fecha' \n",
        "df_met_ts = df_met.set_index('Fecha')\n",
        "df_met_ts.info()\n",
        "\n",
        "# Seleccionaremos un conjunto de años de 30 años\n",
        "df_80 = df_met_ts[(df_met_ts['Año'] >= 1952) & (df_met_ts['Año'] < 1985)]\n",
        "df_90 = df_met_ts[(df_met_ts['Año'] >= 1985) & (df_met_ts['Año'] < 2017)]"
      ],
      "execution_count": null,
      "outputs": [
        {
          "output_type": "stream",
          "text": [
            "<class 'pandas.core.frame.DataFrame'>\n",
            "DatetimeIndex: 22961 entries, 1952-09-01 to 2017-12-30\n",
            "Data columns (total 6 columns):\n",
            " #   Column  Non-Null Count  Dtype  \n",
            "---  ------  --------------  -----  \n",
            " 0   Precip  22950 non-null  float64\n",
            " 1   Evap    0 non-null      float64\n",
            " 2   Tmax    22900 non-null  float64\n",
            " 3   Tmin    22839 non-null  float64\n",
            " 4   Año     22961 non-null  int64  \n",
            " 5   Mes     22961 non-null  object \n",
            "dtypes: float64(4), int64(1), object(1)\n",
            "memory usage: 1.2+ MB\n"
          ],
          "name": "stdout"
        }
      ]
    },
    {
      "cell_type": "code",
      "metadata": {
        "colab": {
          "base_uri": "https://localhost:8080/"
        },
        "id": "BYkHc34DlYWB",
        "outputId": "9805f467-be64-4b1e-ee8a-9b8a87d9ff20"
      },
      "source": [
        "# Método de descomposición usando la biblioteca statsmodels.tsa\n",
        "ts_Tmax = df_80.Tmax\n",
        "decomp_Tmax = sm.tsa.seasonal_decompose(ts_Tmax.interpolate(), model='additive', freq=365)\n",
        "\n",
        "temp_Tmax = decomp_Tmax.trend\n",
        "temp_Tmax = temp_Tmax[~np.isnan(temp_Tmax)]\n",
        "print(temp_Tmax)"
      ],
      "execution_count": null,
      "outputs": [
        {
          "output_type": "stream",
          "text": [
            "Fecha\n",
            "1953-03-02    30.272603\n",
            "1953-03-03    30.261644\n",
            "1953-03-04    30.256164\n",
            "1953-03-05    30.258904\n",
            "1953-03-06    30.269863\n",
            "                ...    \n",
            "1984-06-28    29.106849\n",
            "1984-06-29    29.094521\n",
            "1984-06-30    29.086301\n",
            "1984-07-01    29.069863\n",
            "1984-07-02    29.050685\n",
            "Name: Tmax, Length: 11204, dtype: float64\n"
          ],
          "name": "stdout"
        }
      ]
    },
    {
      "cell_type": "code",
      "metadata": {
        "colab": {
          "base_uri": "https://localhost:8080/",
          "height": 295
        },
        "id": "wqjKR1_TlvVZ",
        "outputId": "e01fbfee-e26f-4648-f025-b1dca75f34ae"
      },
      "source": [
        "n = 11204\n",
        "x = np.arange(0,n)\n",
        "y = tem_Tmax\n",
        "plt.scatter(x,y, color = \"purple\");\n",
        "plt.grid()\n",
        "plt.title('Serie de Tendencia Tmax de la estacion las pocitas')\n",
        "plt.xlabel('x')\n",
        "plt.ylabel('y')\n",
        "plt.show()"
      ],
      "execution_count": null,
      "outputs": [
        {
          "output_type": "display_data",
          "data": {
            "image/png": "[encoded data removed]",
            "text/plain": [
              "<Figure size 432x288 with 1 Axes>"
            ]
          },
          "metadata": {
            "tags": [],
            "needs_background": "light"
          }
        }
      ]
    },
    {
      "cell_type": "code",
      "metadata": {
        "colab": {
          "base_uri": "https://localhost:8080/"
        },
        "id": "X8GQP-gXmQpT",
        "outputId": "7d3af437-9010-4b27-b059-225a3e4e6920"
      },
      "source": [
        "# Construimos la matriz de Vandermonde\n",
        "X = np.column_stack([np.ones(n),x])\n",
        "\n",
        "print(X[:6,:6])"
      ],
      "execution_count": null,
      "outputs": [
        {
          "output_type": "stream",
          "text": [
            "[[1. 0.]\n",
            " [1. 1.]\n",
            " [1. 2.]\n",
            " [1. 3.]\n",
            " [1. 4.]\n",
            " [1. 5.]]\n"
          ],
          "name": "stdout"
        }
      ]
    },
    {
      "cell_type": "code",
      "metadata": {
        "colab": {
          "base_uri": "https://localhost:8080/"
        },
        "id": "bMX8Nnwdmhxk",
        "outputId": "30c1b88f-7eb7-4c2e-fb03-41449bcfe4b0"
      },
      "source": [
        "# Usamos la función scipy.linalg.solve() para resolver la ecuación X.T@X@a = X.T@y respecto a 'a'\n",
        "a = la.solve(X.T @ X, X.T @ y)\n",
        "print(a)"
      ],
      "execution_count": null,
      "outputs": [
        {
          "output_type": "stream",
          "text": [
            "[3.10064847e+01 1.89547063e-04]\n"
          ],
          "name": "stdout"
        }
      ]
    },
    {
      "cell_type": "code",
      "metadata": {
        "colab": {
          "base_uri": "https://localhost:8080/",
          "height": 295
        },
        "id": "4hThnEMjmqYw",
        "outputId": "3f70e147-47ce-41e5-80e0-36cc959761d2"
      },
      "source": [
        "# Graficamos el ajuste con esos 2 coeficientes de la regresión y = a_0 + a_1 x \n",
        "xs = np.linspace(0,n,30)\n",
        "ys = a[0] + a[1]*xs\n",
        "plt.plot(xs,ys,'r',linewidth=4)\n",
        "plt.scatter(x,y, color = \"purple\");\n",
        "plt.grid()\n",
        "plt.title('Ajuste mediante Regresión Lineal de los datos para las Pocitas')\n",
        "plt.xlabel('x')\n",
        "plt.ylabel('y')\n",
        "plt.show()"
      ],
      "execution_count": null,
      "outputs": [
        {
          "output_type": "display_data",
          "data": {
            "image/png": "[encoded data removed]",
            "text/plain": [
              "<Figure size 432x288 with 1 Axes>"
            ]
          },
          "metadata": {
            "tags": [],
            "needs_background": "light"
          }
        }
      ]
    },
    {
      "cell_type": "code",
      "metadata": {
        "colab": {
          "base_uri": "https://localhost:8080/"
        },
        "id": "me4h48oEm1w-",
        "outputId": "b77f3aea-0485-4eed-8312-3e194a6cfe41"
      },
      "source": [
        "# Método de descomposición usando la biblioteca statsmodels.tsa\n",
        "ts_temp_min = df_80.Tmin\n",
        "decomp_Tmin = sm.tsa.seasonal_decompose(ts_temp_min.interpolate(), model='additive', freq=365)\n",
        "\n",
        "temp_Tmin = decomp_Tmin.trend\n",
        "temp_Tmin = temp_Tmin[~np.isnan(temp_Tmin)]\n",
        "print(temp_Tmin)\n"
      ],
      "execution_count": null,
      "outputs": [
        {
          "output_type": "stream",
          "text": [
            "Fecha\n",
            "1953-03-02    13.310959\n",
            "1953-03-03    13.319178\n",
            "1953-03-04    13.321918\n",
            "1953-03-05    13.319178\n",
            "1953-03-06    13.310959\n",
            "                ...    \n",
            "1984-06-28    13.223288\n",
            "1984-06-29    13.246575\n",
            "1984-06-30    13.253425\n",
            "1984-07-01    13.267123\n",
            "1984-07-02    13.269863\n",
            "Name: Tmin, Length: 11204, dtype: float64\n"
          ],
          "name": "stdout"
        }
      ]
    },
    {
      "cell_type": "code",
      "metadata": {
        "colab": {
          "base_uri": "https://localhost:8080/",
          "height": 295
        },
        "id": "99Ch-zohnMRo",
        "outputId": "24eaa775-b694-4c4b-dd45-18d440b6c0b5"
      },
      "source": [
        "n = 11204\n",
        "x = np.arange(0,n)\n",
        "y = temp_Tmin\n",
        "plt.scatter(x,y, color = \"r\");\n",
        "plt.grid()\n",
        "plt.title('Serie de Tendencia Tmin en las Pocitas')\n",
        "plt.xlabel('x')\n",
        "plt.ylabel('y')\n",
        "plt.show()"
      ],
      "execution_count": null,
      "outputs": [
        {
          "output_type": "display_data",
          "data": {
            "image/png": "[encoded data removed]",
            "text/plain": [
              "<Figure size 432x288 with 1 Axes>"
            ]
          },
          "metadata": {
            "tags": [],
            "needs_background": "light"
          }
        }
      ]
    },
    {
      "cell_type": "code",
      "metadata": {
        "colab": {
          "base_uri": "https://localhost:8080/"
        },
        "id": "G2H24Sh0npvE",
        "outputId": "0a879e38-251f-4ecd-cf9f-cab6db0a534d"
      },
      "source": [
        "# Usamos la función scipy.linalg.solve() para resolver la ecuación X.T@X@a = X.T@y respecto a 'a'\n",
        "a = la.solve(X.T @ X, X.T @ y)\n",
        "print(a)"
      ],
      "execution_count": null,
      "outputs": [
        {
          "output_type": "stream",
          "text": [
            "[ 1.39059091e+01 -1.61380247e-04]\n"
          ],
          "name": "stdout"
        }
      ]
    },
    {
      "cell_type": "code",
      "metadata": {
        "colab": {
          "base_uri": "https://localhost:8080/",
          "height": 295
        },
        "id": "GtUHM0JAnuJV",
        "outputId": "2216af4a-41b1-4947-ae08-25a5de38338b"
      },
      "source": [
        "# Graficamos el ajuste con esos 2 coeficientes de la regresión y = a_0 + a_1 x \n",
        "xs = np.linspace(0,n,30)\n",
        "ys = a[0] + a[1]*xs\n",
        "plt.plot(xs,ys,'r',linewidth=4)\n",
        "plt.scatter(x,y, color = \"g\");\n",
        "plt.grid()\n",
        "plt.title('Ajuste mediante Regresión Lineal de los datos en las Pocitas')\n",
        "plt.xlabel('x')\n",
        "plt.ylabel('y')\n",
        "plt.show()"
      ],
      "execution_count": null,
      "outputs": [
        {
          "output_type": "display_data",
          "data": {
            "image/png": "[encoded data removed]",
            "text/plain": [
              "<Figure size 432x288 with 1 Axes>"
            ]
          },
          "metadata": {
            "tags": [],
            "needs_background": "light"
          }
        }
      ]
    },
    {
      "cell_type": "code",
      "metadata": {
        "id": "4SagOy6ln9pZ"
      },
      "source": [
        ""
      ],
      "execution_count": null,
      "outputs": []
    }
  ]
}