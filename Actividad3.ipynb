{
  "nbformat": 4,
  "nbformat_minor": 0,
  "metadata": {
    "colab": {
      "name": "Actividad3.ipynb",
      "provenance": [],
      "collapsed_sections": [],
      "authorship_tag": "ABX9TyOG8pcCfT+a0b4fny9NgKmR",
      "include_colab_link": true
    },
    "kernelspec": {
      "name": "python3",
      "display_name": "Python 3"
    }
  },
  "cells": [
    {
      "cell_type": "markdown",
      "metadata": {
        "id": "view-in-github",
        "colab_type": "text"
      },
      "source": [
        "<a href=\"https://colab.research.google.com/github/Aglaeth/fisica_computacional/blob/main/Actividad3.ipynb\" target=\"_parent\"><img src=\"https://colab.research.google.com/assets/colab-badge.svg\" alt=\"Open In Colab\"/></a>"
      ]
    },
    {
      "cell_type": "code",
      "metadata": {
        "id": "uy-QqEPp14dT",
        "colab": {
          "base_uri": "https://localhost:8080/"
        },
        "outputId": "ec1f1896-2641-42ed-fb0a-c26c1a89b52a"
      },
      "source": [
        "#Importaremos las bibliotecas a utiizar \r\n",
        "import numpy as np\r\n",
        "import pandas as pd\r\n",
        "\r\n",
        "#Nombraremos las columnas del df\r\n",
        "columnas = ['Fecha', 'Precip', 'Evap', 'Tmax', 'Tmin']\r\n",
        "#Agregamos el url de la ubicación de nuestros datos \r\n",
        "\r\n",
        "url = \"https://raw.githubusercontent.com/Abel-Lemus/Computacional-1-/main/Actividad%200/26061.txt\"\r\n",
        "\r\n",
        "#Empezamos con la definicion df_Navojoa\r\n",
        "df_Navojoa = pd.read_csv(url,header =None,names=columnas, skiprows=19, skipfooter=1, sep='\\s+', encoding='cp1251',engine='python')\r\n",
        "\r\n",
        "#Vamos a imprimir los datos de nuestro url \r\n",
        "print(df_Navojoa)\r\n"
      ],
      "execution_count": 148,
      "outputs": [
        {
          "output_type": "stream",
          "text": [
            "            Fecha Precip  Evap  Tmax  Tmin\n",
            "0      01/01/1922      0  Nulo    24    16\n",
            "1      02/01/1922      0  Nulo    24  16.8\n",
            "2      03/01/1922      0  Nulo  24.8  16.8\n",
            "3      04/01/1922      0  Nulo    24    10\n",
            "4      05/01/1922      0  Nulo    21   7.3\n",
            "...           ...    ...   ...   ...   ...\n",
            "25770  26/04/2016      0     9    33  16.5\n",
            "25771  27/04/2016      0   9.1  33.5    14\n",
            "25772  28/04/2016      0   9.2  32.5    14\n",
            "25773  29/04/2016      0   9.1  31.5    15\n",
            "25774  30/04/2016      0   9.2  Nulo  14.5\n",
            "\n",
            "[25775 rows x 5 columns]\n"
          ],
          "name": "stdout"
        }
      ]
    },
    {
      "cell_type": "code",
      "metadata": {
        "id": "tfq1i0PuOswz",
        "colab": {
          "base_uri": "https://localhost:8080/"
        },
        "outputId": "a33db586-413a-4486-eb43-b3b01182b661"
      },
      "source": [
        "#Ahora solo vamos a imprimir usando la función df.head(n) y df.tail()\r\n",
        "\r\n",
        "print(df_Navojoa.head())\r\n",
        "\r\n",
        "print(df_Navojoa.tail())"
      ],
      "execution_count": 149,
      "outputs": [
        {
          "output_type": "stream",
          "text": [
            "        Fecha Precip  Evap  Tmax  Tmin\n",
            "0  01/01/1922      0  Nulo    24    16\n",
            "1  02/01/1922      0  Nulo    24  16.8\n",
            "2  03/01/1922      0  Nulo  24.8  16.8\n",
            "3  04/01/1922      0  Nulo    24    10\n",
            "4  05/01/1922      0  Nulo    21   7.3\n",
            "            Fecha Precip Evap  Tmax  Tmin\n",
            "25770  26/04/2016      0    9    33  16.5\n",
            "25771  27/04/2016      0  9.1  33.5    14\n",
            "25772  28/04/2016      0  9.2  32.5    14\n",
            "25773  29/04/2016      0  9.1  31.5    15\n",
            "25774  30/04/2016      0  9.2  Nulo  14.5\n"
          ],
          "name": "stdout"
        }
      ]
    },
    {
      "cell_type": "code",
      "metadata": {
        "colab": {
          "base_uri": "https://localhost:8080/"
        },
        "id": "MdysfVCFdCB4",
        "outputId": "d74cf8b7-6f3d-47c6-c81e-017ee3b45df6"
      },
      "source": [
        "#Parte 3 \r\n",
        "print(df_Navojoa.head(10))\r\n",
        "\r\n",
        "print(df_Navojoa.tail(10))"
      ],
      "execution_count": 150,
      "outputs": [
        {
          "output_type": "stream",
          "text": [
            "        Fecha Precip  Evap  Tmax  Tmin\n",
            "0  01/01/1922      0  Nulo    24    16\n",
            "1  02/01/1922      0  Nulo    24  16.8\n",
            "2  03/01/1922      0  Nulo  24.8  16.8\n",
            "3  04/01/1922      0  Nulo    24    10\n",
            "4  05/01/1922      0  Nulo    21   7.3\n",
            "5  06/01/1922      0  Nulo    21     4\n",
            "6  07/01/1922      0  Nulo    21   4.2\n",
            "7  08/01/1922      0  Nulo    19     7\n",
            "8  09/01/1922      0  Nulo    23     5\n",
            "9  10/01/1922      0  Nulo    23     5\n",
            "            Fecha Precip Evap  Tmax  Tmin\n",
            "25765  21/04/2016      0  9.1  35.5  14.5\n",
            "25766  22/04/2016      0  8.6    32    17\n",
            "25767  23/04/2016      0  8.9    33  16.5\n",
            "25768  24/04/2016      0  9.1    33    17\n",
            "25769  25/04/2016      0  9.2  34.5  16.5\n",
            "25770  26/04/2016      0    9    33  16.5\n",
            "25771  27/04/2016      0  9.1  33.5    14\n",
            "25772  28/04/2016      0  9.2  32.5    14\n",
            "25773  29/04/2016      0  9.1  31.5    15\n",
            "25774  30/04/2016      0  9.2  Nulo  14.5\n"
          ],
          "name": "stdout"
        }
      ]
    },
    {
      "cell_type": "code",
      "metadata": {
        "colab": {
          "base_uri": "https://localhost:8080/"
        },
        "id": "pCNgBTJodoFR",
        "outputId": "48ac33dc-3653-42ec-8070-c64d6636766e"
      },
      "source": [
        "#Ahora estudiaremos las dimensiones del archivo por medio de la siguiente linea de codigo : df.shape\r\n",
        "\r\n",
        "df_Navojoa.shape"
      ],
      "execution_count": 151,
      "outputs": [
        {
          "output_type": "execute_result",
          "data": {
            "text/plain": [
              "(25775, 5)"
            ]
          },
          "metadata": {
            "tags": []
          },
          "execution_count": 151
        }
      ]
    },
    {
      "cell_type": "code",
      "metadata": {
        "colab": {
          "base_uri": "https://localhost:8080/"
        },
        "id": "hd9Wtn00d_Q8",
        "outputId": "6ff0be37-78b3-4d40-bcd9-c2715a3dcbf8"
      },
      "source": [
        "#Posteriormente se nos pide saber ¿Cómo es el contenido de tu dataframe?: df.info()\r\n",
        "\r\n",
        "df_Navojoa.info()"
      ],
      "execution_count": 152,
      "outputs": [
        {
          "output_type": "stream",
          "text": [
            "<class 'pandas.core.frame.DataFrame'>\n",
            "RangeIndex: 25775 entries, 0 to 25774\n",
            "Data columns (total 5 columns):\n",
            " #   Column  Non-Null Count  Dtype \n",
            "---  ------  --------------  ----- \n",
            " 0   Fecha   25775 non-null  object\n",
            " 1   Precip  25775 non-null  object\n",
            " 2   Evap    25775 non-null  object\n",
            " 3   Tmax    25775 non-null  object\n",
            " 4   Tmin    25775 non-null  object\n",
            "dtypes: object(5)\n",
            "memory usage: 1007.0+ KB\n"
          ],
          "name": "stdout"
        }
      ]
    },
    {
      "cell_type": "code",
      "metadata": {
        "colab": {
          "base_uri": "https://localhost:8080/",
          "height": 204
        },
        "id": "WAcige-UezP5",
        "outputId": "aaac4d7f-234f-4986-816a-5bc40defbdf4"
      },
      "source": [
        "# Hacemos una copia de trabajo y preservamos el dataframe original\r\n",
        "df_respaldo = df_Navojoa.copy()\r\n",
        "df_respaldo.head()"
      ],
      "execution_count": 153,
      "outputs": [
        {
          "output_type": "execute_result",
          "data": {
            "text/html": [
              "<div>\n",
              "<style scoped>\n",
              "    .dataframe tbody tr th:only-of-type {\n",
              "        vertical-align: middle;\n",
              "    }\n",
              "\n",
              "    .dataframe tbody tr th {\n",
              "        vertical-align: top;\n",
              "    }\n",
              "\n",
              "    .dataframe thead th {\n",
              "        text-align: right;\n",
              "    }\n",
              "</style>\n",
              "<table border=\"1\" class=\"dataframe\">\n",
              "  <thead>\n",
              "    <tr style=\"text-align: right;\">\n",
              "      <th></th>\n",
              "      <th>Fecha</th>\n",
              "      <th>Precip</th>\n",
              "      <th>Evap</th>\n",
              "      <th>Tmax</th>\n",
              "      <th>Tmin</th>\n",
              "    </tr>\n",
              "  </thead>\n",
              "  <tbody>\n",
              "    <tr>\n",
              "      <th>0</th>\n",
              "      <td>01/01/1922</td>\n",
              "      <td>0</td>\n",
              "      <td>Nulo</td>\n",
              "      <td>24</td>\n",
              "      <td>16</td>\n",
              "    </tr>\n",
              "    <tr>\n",
              "      <th>1</th>\n",
              "      <td>02/01/1922</td>\n",
              "      <td>0</td>\n",
              "      <td>Nulo</td>\n",
              "      <td>24</td>\n",
              "      <td>16.8</td>\n",
              "    </tr>\n",
              "    <tr>\n",
              "      <th>2</th>\n",
              "      <td>03/01/1922</td>\n",
              "      <td>0</td>\n",
              "      <td>Nulo</td>\n",
              "      <td>24.8</td>\n",
              "      <td>16.8</td>\n",
              "    </tr>\n",
              "    <tr>\n",
              "      <th>3</th>\n",
              "      <td>04/01/1922</td>\n",
              "      <td>0</td>\n",
              "      <td>Nulo</td>\n",
              "      <td>24</td>\n",
              "      <td>10</td>\n",
              "    </tr>\n",
              "    <tr>\n",
              "      <th>4</th>\n",
              "      <td>05/01/1922</td>\n",
              "      <td>0</td>\n",
              "      <td>Nulo</td>\n",
              "      <td>21</td>\n",
              "      <td>7.3</td>\n",
              "    </tr>\n",
              "  </tbody>\n",
              "</table>\n",
              "</div>"
            ],
            "text/plain": [
              "        Fecha Precip  Evap  Tmax  Tmin\n",
              "0  01/01/1922      0  Nulo    24    16\n",
              "1  02/01/1922      0  Nulo    24  16.8\n",
              "2  03/01/1922      0  Nulo  24.8  16.8\n",
              "3  04/01/1922      0  Nulo    24    10\n",
              "4  05/01/1922      0  Nulo    21   7.3"
            ]
          },
          "metadata": {
            "tags": []
          },
          "execution_count": 153
        }
      ]
    },
    {
      "cell_type": "code",
      "metadata": {
        "colab": {
          "base_uri": "https://localhost:8080/",
          "height": 204
        },
        "id": "MANHDQ9IeIqn",
        "outputId": "bd82d880-3f9d-4327-c205-3fb8ca16458b"
      },
      "source": [
        "#Ahora con los datos originales incluyen la cadena de caracteres 'Nulo', indicando que no hubo datos para esa variable, ese día. \r\n",
        "#Tenemos que reemplazar la palabra nulo con la función: df.replace()\r\n",
        "\r\n",
        "str_Nulo = 'Nulo'\r\n",
        "df_respaldo = df_respaldo.replace(to_replace=str_Nulo, value='', regex=True)\r\n",
        "df_respaldo.head()"
      ],
      "execution_count": 154,
      "outputs": [
        {
          "output_type": "execute_result",
          "data": {
            "text/html": [
              "<div>\n",
              "<style scoped>\n",
              "    .dataframe tbody tr th:only-of-type {\n",
              "        vertical-align: middle;\n",
              "    }\n",
              "\n",
              "    .dataframe tbody tr th {\n",
              "        vertical-align: top;\n",
              "    }\n",
              "\n",
              "    .dataframe thead th {\n",
              "        text-align: right;\n",
              "    }\n",
              "</style>\n",
              "<table border=\"1\" class=\"dataframe\">\n",
              "  <thead>\n",
              "    <tr style=\"text-align: right;\">\n",
              "      <th></th>\n",
              "      <th>Fecha</th>\n",
              "      <th>Precip</th>\n",
              "      <th>Evap</th>\n",
              "      <th>Tmax</th>\n",
              "      <th>Tmin</th>\n",
              "    </tr>\n",
              "  </thead>\n",
              "  <tbody>\n",
              "    <tr>\n",
              "      <th>0</th>\n",
              "      <td>01/01/1922</td>\n",
              "      <td>0</td>\n",
              "      <td></td>\n",
              "      <td>24</td>\n",
              "      <td>16</td>\n",
              "    </tr>\n",
              "    <tr>\n",
              "      <th>1</th>\n",
              "      <td>02/01/1922</td>\n",
              "      <td>0</td>\n",
              "      <td></td>\n",
              "      <td>24</td>\n",
              "      <td>16.8</td>\n",
              "    </tr>\n",
              "    <tr>\n",
              "      <th>2</th>\n",
              "      <td>03/01/1922</td>\n",
              "      <td>0</td>\n",
              "      <td></td>\n",
              "      <td>24.8</td>\n",
              "      <td>16.8</td>\n",
              "    </tr>\n",
              "    <tr>\n",
              "      <th>3</th>\n",
              "      <td>04/01/1922</td>\n",
              "      <td>0</td>\n",
              "      <td></td>\n",
              "      <td>24</td>\n",
              "      <td>10</td>\n",
              "    </tr>\n",
              "    <tr>\n",
              "      <th>4</th>\n",
              "      <td>05/01/1922</td>\n",
              "      <td>0</td>\n",
              "      <td></td>\n",
              "      <td>21</td>\n",
              "      <td>7.3</td>\n",
              "    </tr>\n",
              "  </tbody>\n",
              "</table>\n",
              "</div>"
            ],
            "text/plain": [
              "        Fecha Precip Evap  Tmax  Tmin\n",
              "0  01/01/1922      0         24    16\n",
              "1  02/01/1922      0         24  16.8\n",
              "2  03/01/1922      0       24.8  16.8\n",
              "3  04/01/1922      0         24    10\n",
              "4  05/01/1922      0         21   7.3"
            ]
          },
          "metadata": {
            "tags": []
          },
          "execution_count": 154
        }
      ]
    },
    {
      "cell_type": "code",
      "metadata": {
        "colab": {
          "base_uri": "https://localhost:8080/"
        },
        "id": "6Quw8m-ffwry",
        "outputId": "fdf460ad-e623-4168-912a-c7e3e929fa7a"
      },
      "source": [
        "#Ya quetenemos reemplazada la parte de NULO, vamos a imprimir los archivos actualizados \r\n",
        "\r\n",
        "df_respaldo.info()\r\n",
        "print(df_respaldo.head())"
      ],
      "execution_count": 155,
      "outputs": [
        {
          "output_type": "stream",
          "text": [
            "<class 'pandas.core.frame.DataFrame'>\n",
            "RangeIndex: 25775 entries, 0 to 25774\n",
            "Data columns (total 5 columns):\n",
            " #   Column  Non-Null Count  Dtype \n",
            "---  ------  --------------  ----- \n",
            " 0   Fecha   25775 non-null  object\n",
            " 1   Precip  25775 non-null  object\n",
            " 2   Evap    25775 non-null  object\n",
            " 3   Tmax    25775 non-null  object\n",
            " 4   Tmin    25775 non-null  object\n",
            "dtypes: object(5)\n",
            "memory usage: 1007.0+ KB\n",
            "        Fecha Precip Evap  Tmax  Tmin\n",
            "0  01/01/1922      0         24    16\n",
            "1  02/01/1922      0         24  16.8\n",
            "2  03/01/1922      0       24.8  16.8\n",
            "3  04/01/1922      0         24    10\n",
            "4  05/01/1922      0         21   7.3\n"
          ],
          "name": "stdout"
        }
      ]
    },
    {
      "cell_type": "code",
      "metadata": {
        "id": "6iThMyHNnkwh",
        "colab": {
          "base_uri": "https://localhost:8080/"
        },
        "outputId": "41d10c05-a2d2-4477-ff1e-f59fe4998abc"
      },
      "source": [
        "cols_list = ['Precip', 'Evap', 'Tmax', 'Tmin']\r\n",
        "for cols in cols_list:\r\n",
        "  df_respaldo[cols] = pd.to_numeric(df_respaldo[cols], errors='coerce')\r\n",
        "\r\n",
        "df_respaldo.info()"
      ],
      "execution_count": 157,
      "outputs": [
        {
          "output_type": "stream",
          "text": [
            "<class 'pandas.core.frame.DataFrame'>\n",
            "RangeIndex: 25775 entries, 0 to 25774\n",
            "Data columns (total 5 columns):\n",
            " #   Column  Non-Null Count  Dtype  \n",
            "---  ------  --------------  -----  \n",
            " 0   Fecha   25775 non-null  object \n",
            " 1   Precip  25739 non-null  float64\n",
            " 2   Evap    19131 non-null  float64\n",
            " 3   Tmax    24841 non-null  float64\n",
            " 4   Tmin    24837 non-null  float64\n",
            "dtypes: float64(4), object(1)\n",
            "memory usage: 1007.0+ KB\n"
          ],
          "name": "stdout"
        }
      ]
    },
    {
      "cell_type": "code",
      "metadata": {
        "id": "OyNfwCfT9tie",
        "colab": {
          "base_uri": "https://localhost:8080/"
        },
        "outputId": "368227c0-f925-4e14-fa90-813557387a5f"
      },
      "source": [
        "#Se puede contabilizar el número de datos faltantes en esas variables mediante la función: df.isnull().sum()\r\n",
        "\r\n",
        "df_respaldo.isnull().sum()\r\n"
      ],
      "execution_count": 158,
      "outputs": [
        {
          "output_type": "execute_result",
          "data": {
            "text/plain": [
              "Fecha        0\n",
              "Precip      36\n",
              "Evap      6644\n",
              "Tmax       934\n",
              "Tmin       938\n",
              "dtype: int64"
            ]
          },
          "metadata": {
            "tags": []
          },
          "execution_count": 158
        }
      ]
    },
    {
      "cell_type": "code",
      "metadata": {
        "colab": {
          "base_uri": "https://localhost:8080/"
        },
        "id": "89UGcdceXDrz",
        "outputId": "07114963-3072-4878-cf71-8482ca4771f7"
      },
      "source": [
        "#Imprime de nuevo el encabezado y final de tu dataframe, con las funciones df.head() y df.tail()\r\n",
        "\r\n",
        "print(df_respaldo.head())\r\n",
        "print(df_respaldo.tail())"
      ],
      "execution_count": 159,
      "outputs": [
        {
          "output_type": "stream",
          "text": [
            "        Fecha  Precip  Evap  Tmax  Tmin\n",
            "0  01/01/1922     0.0   NaN  24.0  16.0\n",
            "1  02/01/1922     0.0   NaN  24.0  16.8\n",
            "2  03/01/1922     0.0   NaN  24.8  16.8\n",
            "3  04/01/1922     0.0   NaN  24.0  10.0\n",
            "4  05/01/1922     0.0   NaN  21.0   7.3\n",
            "            Fecha  Precip  Evap  Tmax  Tmin\n",
            "25770  26/04/2016     0.0   9.0  33.0  16.5\n",
            "25771  27/04/2016     0.0   9.1  33.5  14.0\n",
            "25772  28/04/2016     0.0   9.2  32.5  14.0\n",
            "25773  29/04/2016     0.0   9.1  31.5  15.0\n",
            "25774  30/04/2016     0.0   9.2   NaN  14.5\n"
          ],
          "name": "stdout"
        }
      ]
    },
    {
      "cell_type": "code",
      "metadata": {
        "colab": {
          "base_uri": "https://localhost:8080/",
          "height": 297
        },
        "id": "ke7Kc6uyYd1J",
        "outputId": "597b92d9-115f-45bc-c1c1-911051c33032"
      },
      "source": [
        "#Realiza una estadística básica de las variables numéricas de tu dataframe usando la función: df.describe() y haz una interpretación de los resultados, para ver si tienen sentido físico \r\n",
        "#(por ej. valores negativos de precipitación, valores extremos fuera de lo normal, etc)\r\n",
        "\r\n",
        "df_respaldo.describe().round(2)\r\n"
      ],
      "execution_count": 160,
      "outputs": [
        {
          "output_type": "execute_result",
          "data": {
            "text/html": [
              "<div>\n",
              "<style scoped>\n",
              "    .dataframe tbody tr th:only-of-type {\n",
              "        vertical-align: middle;\n",
              "    }\n",
              "\n",
              "    .dataframe tbody tr th {\n",
              "        vertical-align: top;\n",
              "    }\n",
              "\n",
              "    .dataframe thead th {\n",
              "        text-align: right;\n",
              "    }\n",
              "</style>\n",
              "<table border=\"1\" class=\"dataframe\">\n",
              "  <thead>\n",
              "    <tr style=\"text-align: right;\">\n",
              "      <th></th>\n",
              "      <th>Precip</th>\n",
              "      <th>Evap</th>\n",
              "      <th>Tmax</th>\n",
              "      <th>Tmin</th>\n",
              "    </tr>\n",
              "  </thead>\n",
              "  <tbody>\n",
              "    <tr>\n",
              "      <th>count</th>\n",
              "      <td>25739.00</td>\n",
              "      <td>19131.00</td>\n",
              "      <td>24841.00</td>\n",
              "      <td>24837.00</td>\n",
              "    </tr>\n",
              "    <tr>\n",
              "      <th>mean</th>\n",
              "      <td>1.12</td>\n",
              "      <td>7.06</td>\n",
              "      <td>33.29</td>\n",
              "      <td>16.99</td>\n",
              "    </tr>\n",
              "    <tr>\n",
              "      <th>std</th>\n",
              "      <td>6.08</td>\n",
              "      <td>3.08</td>\n",
              "      <td>5.77</td>\n",
              "      <td>6.83</td>\n",
              "    </tr>\n",
              "    <tr>\n",
              "      <th>min</th>\n",
              "      <td>0.00</td>\n",
              "      <td>0.10</td>\n",
              "      <td>11.00</td>\n",
              "      <td>-3.50</td>\n",
              "    </tr>\n",
              "    <tr>\n",
              "      <th>25%</th>\n",
              "      <td>0.00</td>\n",
              "      <td>4.60</td>\n",
              "      <td>29.00</td>\n",
              "      <td>11.50</td>\n",
              "    </tr>\n",
              "    <tr>\n",
              "      <th>50%</th>\n",
              "      <td>0.00</td>\n",
              "      <td>6.70</td>\n",
              "      <td>34.00</td>\n",
              "      <td>16.50</td>\n",
              "    </tr>\n",
              "    <tr>\n",
              "      <th>75%</th>\n",
              "      <td>0.00</td>\n",
              "      <td>9.30</td>\n",
              "      <td>37.90</td>\n",
              "      <td>23.00</td>\n",
              "    </tr>\n",
              "    <tr>\n",
              "      <th>max</th>\n",
              "      <td>211.00</td>\n",
              "      <td>18.00</td>\n",
              "      <td>53.30</td>\n",
              "      <td>34.00</td>\n",
              "    </tr>\n",
              "  </tbody>\n",
              "</table>\n",
              "</div>"
            ],
            "text/plain": [
              "         Precip      Evap      Tmax      Tmin\n",
              "count  25739.00  19131.00  24841.00  24837.00\n",
              "mean       1.12      7.06     33.29     16.99\n",
              "std        6.08      3.08      5.77      6.83\n",
              "min        0.00      0.10     11.00     -3.50\n",
              "25%        0.00      4.60     29.00     11.50\n",
              "50%        0.00      6.70     34.00     16.50\n",
              "75%        0.00      9.30     37.90     23.00\n",
              "max      211.00     18.00     53.30     34.00"
            ]
          },
          "metadata": {
            "tags": []
          },
          "execution_count": 160
        }
      ]
    },
    {
      "cell_type": "code",
      "metadata": {
        "colab": {
          "base_uri": "https://localhost:8080/",
          "height": 419
        },
        "id": "aHiKNCt7Z4xF",
        "outputId": "52b778da-d6b5-44db-faef-2d52c4d46f6f"
      },
      "source": [
        "#Comienza haciendo una copia del dataframe del paso anterior, por si se requiere recuperar el nuevo dataframe, utilizando df:new=df.copy()\r\n",
        "\r\n",
        "df_newcopia = df_respaldo.copy()\r\n",
        "\r\n",
        "df_newcopia"
      ],
      "execution_count": 161,
      "outputs": [
        {
          "output_type": "execute_result",
          "data": {
            "text/html": [
              "<div>\n",
              "<style scoped>\n",
              "    .dataframe tbody tr th:only-of-type {\n",
              "        vertical-align: middle;\n",
              "    }\n",
              "\n",
              "    .dataframe tbody tr th {\n",
              "        vertical-align: top;\n",
              "    }\n",
              "\n",
              "    .dataframe thead th {\n",
              "        text-align: right;\n",
              "    }\n",
              "</style>\n",
              "<table border=\"1\" class=\"dataframe\">\n",
              "  <thead>\n",
              "    <tr style=\"text-align: right;\">\n",
              "      <th></th>\n",
              "      <th>Fecha</th>\n",
              "      <th>Precip</th>\n",
              "      <th>Evap</th>\n",
              "      <th>Tmax</th>\n",
              "      <th>Tmin</th>\n",
              "    </tr>\n",
              "  </thead>\n",
              "  <tbody>\n",
              "    <tr>\n",
              "      <th>0</th>\n",
              "      <td>01/01/1922</td>\n",
              "      <td>0.0</td>\n",
              "      <td>NaN</td>\n",
              "      <td>24.0</td>\n",
              "      <td>16.0</td>\n",
              "    </tr>\n",
              "    <tr>\n",
              "      <th>1</th>\n",
              "      <td>02/01/1922</td>\n",
              "      <td>0.0</td>\n",
              "      <td>NaN</td>\n",
              "      <td>24.0</td>\n",
              "      <td>16.8</td>\n",
              "    </tr>\n",
              "    <tr>\n",
              "      <th>2</th>\n",
              "      <td>03/01/1922</td>\n",
              "      <td>0.0</td>\n",
              "      <td>NaN</td>\n",
              "      <td>24.8</td>\n",
              "      <td>16.8</td>\n",
              "    </tr>\n",
              "    <tr>\n",
              "      <th>3</th>\n",
              "      <td>04/01/1922</td>\n",
              "      <td>0.0</td>\n",
              "      <td>NaN</td>\n",
              "      <td>24.0</td>\n",
              "      <td>10.0</td>\n",
              "    </tr>\n",
              "    <tr>\n",
              "      <th>4</th>\n",
              "      <td>05/01/1922</td>\n",
              "      <td>0.0</td>\n",
              "      <td>NaN</td>\n",
              "      <td>21.0</td>\n",
              "      <td>7.3</td>\n",
              "    </tr>\n",
              "    <tr>\n",
              "      <th>...</th>\n",
              "      <td>...</td>\n",
              "      <td>...</td>\n",
              "      <td>...</td>\n",
              "      <td>...</td>\n",
              "      <td>...</td>\n",
              "    </tr>\n",
              "    <tr>\n",
              "      <th>25770</th>\n",
              "      <td>26/04/2016</td>\n",
              "      <td>0.0</td>\n",
              "      <td>9.0</td>\n",
              "      <td>33.0</td>\n",
              "      <td>16.5</td>\n",
              "    </tr>\n",
              "    <tr>\n",
              "      <th>25771</th>\n",
              "      <td>27/04/2016</td>\n",
              "      <td>0.0</td>\n",
              "      <td>9.1</td>\n",
              "      <td>33.5</td>\n",
              "      <td>14.0</td>\n",
              "    </tr>\n",
              "    <tr>\n",
              "      <th>25772</th>\n",
              "      <td>28/04/2016</td>\n",
              "      <td>0.0</td>\n",
              "      <td>9.2</td>\n",
              "      <td>32.5</td>\n",
              "      <td>14.0</td>\n",
              "    </tr>\n",
              "    <tr>\n",
              "      <th>25773</th>\n",
              "      <td>29/04/2016</td>\n",
              "      <td>0.0</td>\n",
              "      <td>9.1</td>\n",
              "      <td>31.5</td>\n",
              "      <td>15.0</td>\n",
              "    </tr>\n",
              "    <tr>\n",
              "      <th>25774</th>\n",
              "      <td>30/04/2016</td>\n",
              "      <td>0.0</td>\n",
              "      <td>9.2</td>\n",
              "      <td>NaN</td>\n",
              "      <td>14.5</td>\n",
              "    </tr>\n",
              "  </tbody>\n",
              "</table>\n",
              "<p>25775 rows × 5 columns</p>\n",
              "</div>"
            ],
            "text/plain": [
              "            Fecha  Precip  Evap  Tmax  Tmin\n",
              "0      01/01/1922     0.0   NaN  24.0  16.0\n",
              "1      02/01/1922     0.0   NaN  24.0  16.8\n",
              "2      03/01/1922     0.0   NaN  24.8  16.8\n",
              "3      04/01/1922     0.0   NaN  24.0  10.0\n",
              "4      05/01/1922     0.0   NaN  21.0   7.3\n",
              "...           ...     ...   ...   ...   ...\n",
              "25770  26/04/2016     0.0   9.0  33.0  16.5\n",
              "25771  27/04/2016     0.0   9.1  33.5  14.0\n",
              "25772  28/04/2016     0.0   9.2  32.5  14.0\n",
              "25773  29/04/2016     0.0   9.1  31.5  15.0\n",
              "25774  30/04/2016     0.0   9.2   NaN  14.5\n",
              "\n",
              "[25775 rows x 5 columns]"
            ]
          },
          "metadata": {
            "tags": []
          },
          "execution_count": 161
        }
      ]
    },
    {
      "cell_type": "code",
      "metadata": {
        "colab": {
          "base_uri": "https://localhost:8080/"
        },
        "id": "_xqdg5xub1-6",
        "outputId": "c4e419d1-c33b-40e9-ff2f-27ac594f3c02"
      },
      "source": [
        "#Utiliza la función de Pandas pd.to_datetime(), para convertir el objeto Fecha a formato de fecha que comprende Python. \r\n",
        "# Lee el manual de esa función e intenta la conversión. \r\n",
        "\r\n",
        "\r\n",
        "df_newcopia[\"Fecha\"] = pd.to_datetime(df_newcopia[\"Fecha\"], dayfirst=True ).copy()\r\n",
        "print(df_newcopia.head())"
      ],
      "execution_count": 162,
      "outputs": [
        {
          "output_type": "stream",
          "text": [
            "       Fecha  Precip  Evap  Tmax  Tmin\n",
            "0 1922-01-01     0.0   NaN  24.0  16.0\n",
            "1 1922-01-02     0.0   NaN  24.0  16.8\n",
            "2 1922-01-03     0.0   NaN  24.8  16.8\n",
            "3 1922-01-04     0.0   NaN  24.0  10.0\n",
            "4 1922-01-05     0.0   NaN  21.0   7.3\n"
          ],
          "name": "stdout"
        }
      ]
    },
    {
      "cell_type": "code",
      "metadata": {
        "colab": {
          "base_uri": "https://localhost:8080/"
        },
        "id": "JbogWtmhdvE7",
        "outputId": "1a5ad048-35dc-4659-d1b8-30acd5cfc42d"
      },
      "source": [
        "#Después utiliza la función df.dtypes para verificar que todas las variables son del tipo deseado.  \r\n",
        "\r\n",
        "df_newcopia.dtypes\r\n"
      ],
      "execution_count": 163,
      "outputs": [
        {
          "output_type": "execute_result",
          "data": {
            "text/plain": [
              "Fecha     datetime64[ns]\n",
              "Precip           float64\n",
              "Evap             float64\n",
              "Tmax             float64\n",
              "Tmin             float64\n",
              "dtype: object"
            ]
          },
          "metadata": {
            "tags": []
          },
          "execution_count": 163
        }
      ]
    },
    {
      "cell_type": "code",
      "metadata": {
        "id": "V_swCCY8fb9W"
      },
      "source": [
        "#Enseguida con la ayuda de las funciones de Pandas df['Fecha'].dt.year y df['Fecha'].dt.month, crea dos columnas nuevas adicionales df['Año'] y df['Mes']. \r\n",
        "\r\n",
        "df_newcopia['Año'] = df_newcopia['Fecha'].dt.year\r\n",
        "df_newcopia['Mes'] = df_newcopia['Fecha'].dt.month"
      ],
      "execution_count": 164,
      "outputs": []
    },
    {
      "cell_type": "code",
      "metadata": {
        "id": "lkjbFXdVkiju"
      },
      "source": [
        "#Utilizando la función print aplicado a las funciones df.head() y df.tail(), verifica que el dataframe tiene la forma deseada."
      ],
      "execution_count": null,
      "outputs": []
    },
    {
      "cell_type": "code",
      "metadata": {
        "colab": {
          "base_uri": "https://localhost:8080/"
        },
        "id": "6Ca1_SHikT1L",
        "outputId": "f4241ab0-34d6-4942-f901-333c14d2b487"
      },
      "source": [
        "print(df_newcopia.head())\r\n",
        "print(df_newcopia.tail())"
      ],
      "execution_count": 165,
      "outputs": [
        {
          "output_type": "stream",
          "text": [
            "       Fecha  Precip  Evap  Tmax  Tmin   Año  Mes\n",
            "0 1922-01-01     0.0   NaN  24.0  16.0  1922    1\n",
            "1 1922-01-02     0.0   NaN  24.0  16.8  1922    1\n",
            "2 1922-01-03     0.0   NaN  24.8  16.8  1922    1\n",
            "3 1922-01-04     0.0   NaN  24.0  10.0  1922    1\n",
            "4 1922-01-05     0.0   NaN  21.0   7.3  1922    1\n",
            "           Fecha  Precip  Evap  Tmax  Tmin   Año  Mes\n",
            "25770 2016-04-26     0.0   9.0  33.0  16.5  2016    4\n",
            "25771 2016-04-27     0.0   9.1  33.5  14.0  2016    4\n",
            "25772 2016-04-28     0.0   9.2  32.5  14.0  2016    4\n",
            "25773 2016-04-29     0.0   9.1  31.5  15.0  2016    4\n",
            "25774 2016-04-30     0.0   9.2   NaN  14.5  2016    4\n"
          ],
          "name": "stdout"
        }
      ]
    },
    {
      "cell_type": "code",
      "metadata": {
        "colab": {
          "base_uri": "https://localhost:8080/"
        },
        "id": "ZuS8hQE3kg4-",
        "outputId": "964f97df-4d24-416c-87f8-b564f7545e7a"
      },
      "source": [
        "#Y complementa con la función df.dtypes, para verificar que todas las variables son del tipo adecuado.  \r\n",
        "\r\n",
        "df_newcopia.dtypes\r\n",
        "df_newcopia.info()"
      ],
      "execution_count": 167,
      "outputs": [
        {
          "output_type": "stream",
          "text": [
            "<class 'pandas.core.frame.DataFrame'>\n",
            "RangeIndex: 25775 entries, 0 to 25774\n",
            "Data columns (total 7 columns):\n",
            " #   Column  Non-Null Count  Dtype         \n",
            "---  ------  --------------  -----         \n",
            " 0   Fecha   25775 non-null  datetime64[ns]\n",
            " 1   Precip  25739 non-null  float64       \n",
            " 2   Evap    19131 non-null  float64       \n",
            " 3   Tmax    24841 non-null  float64       \n",
            " 4   Tmin    24837 non-null  float64       \n",
            " 5   Año     25775 non-null  int64         \n",
            " 6   Mes     25775 non-null  int64         \n",
            "dtypes: datetime64[ns](1), float64(4), int64(2)\n",
            "memory usage: 1.4 MB\n"
          ],
          "name": "stdout"
        }
      ]
    },
    {
      "cell_type": "code",
      "metadata": {
        "id": "Vfy3slL9nbx6"
      },
      "source": [
        ""
      ],
      "execution_count": null,
      "outputs": []
    }
  ]
}